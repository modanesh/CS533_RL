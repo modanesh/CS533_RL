{
 "cells": [
  {
   "cell_type": "markdown",
   "metadata": {},
   "source": [
    "# Distributed Deep Q-Learning \n",
    "\n",
    "The goal of this assignment is to implement and experiment with both single-core and distributed versions of the deep reinforcement learning algorithm Deep Q Networks (DQN). In particular, DQN will be run in the classic RL benchmark Cart-Pole and abblation experiments will be run to observe the impact of the different DQN components. \n",
    "\n",
    "The relevant content about DQN can be found Q-Learning and SARSA are in the following course notes from CS533.\n",
    "\n",
    "https://oregonstate.instructure.com/courses/1719746/files/75047394/download?wrap=1\n",
    "\n",
    "The full pseudo-code for DQN is on slide 45 with prior slides introducing the individual components. \n",
    "\n",
    "\n",
    "## Recap of DQN \n",
    "\n",
    "From the course slides it can be seen that DQN is simply the standard table-based Q-learning algorithm but with three extensions:\n",
    "\n",
    "1) Use of function approximation via a neural network instead of a Q-table. \n",
    "2) Use of experience replay. \n",
    "3) Use of a target network. \n",
    "\n",
    "Extension (1) allows for scaling to problems with enormous state spaces, such as when the states correspond to images or sequences of images. Extensions (2) and (3) are claimed to improve the robustness and effectiveness of DQN compared. \n",
    "\n",
    "(2) adjusts Q-learning so that updates are not just performed on individual experiences as they arrive. But rather, experiences are stored in a memory buffer and updates are performed by sampling random mini-batches of experience tuples from the memory buffer and updating the network based on the mini-batch. This allows for reuse of experience as well as helping to reduce correlation between successive updates, which is claimed to be beneficial. \n",
    "\n",
    "(3) adjusts the way that target values are computed for the Q-learning updates. Let $Q_{\\theta}(s,a)$ be the function approximation network with parameters $\\theta$ for representing the Q-function. Given an experience tuple $(s, a, r, s')$ the origional Q-learning algorithm updates the parameters so that $Q_{\\theta}(s,a)$ moves closer to the target value: \n",
    "\\begin{equation}\n",
    "r + \\beta \\max_a' Q_{\\theta}(s',a') \n",
    "\\end{equation}\n",
    "Rather, DQN stores two function approximation networks. The first is the update network with parameters $\\theta$, which is the network that is continually updated during learning. The second is a target network with parameters $\\theta'$. Given the same experience tuple, DQN will update the parameters $\\theta$ so that $Q_{\\theta}(s,a)$ moves toward a target value based on the target network:\n",
    "\\begin{equation}\n",
    "r + \\beta \\max_a' Q_{\\theta'}(s',a') \n",
    "\\end{equation}\n",
    "Periodically the target network is updated with the most recent parameters $\\theta' \\leftarrow \\theta$. This use of a target network is claimed to stabilize learning.\n",
    "\n",
    "In the assignment you will get to see an example of the impact of both the target network and experience replay.\n",
    "\n",
    "Further reading about DQN and its application to learning to play Atari games can be found in the following paper. \n",
    "\n",
    "Mnih, V., Kavukcuoglu, K., Silver, D., Rusu, A.A., Veness, J., Bellemare, M.G., Graves, A., Riedmiller, M., Fidjeland, A.K., Ostrovski, G. and Petersen, S., 2015. Human-level control through deep reinforcement learning. Nature, 518(7540), p.529.\n",
    "https://oregonstate.instructure.com/courses/1719746/files/75234294/download?wrap=1"
   ]
  },
  {
   "cell_type": "code",
   "execution_count": 1,
   "metadata": {},
   "outputs": [],
   "source": [
    "# !pip install --user gym[Box2D]\n",
    "# !pip install --user torch\n",
    "# !pip install --user JSAnimation\n",
    "# !pip install --user matplotlib"
   ]
  },
  {
   "cell_type": "markdown",
   "metadata": {},
   "source": [
    "Install the packages for enviroment"
   ]
  },
  {
   "cell_type": "code",
   "execution_count": 2,
   "metadata": {},
   "outputs": [],
   "source": [
    "import gym\n",
    "import torch\n",
    "import time\n",
    "import os\n",
    "import ray\n",
    "import numpy as np\n",
    "\n",
    "from tqdm import tqdm\n",
    "from random import uniform, randint\n",
    "\n",
    "import io\n",
    "import base64\n",
    "from IPython.display import HTML\n",
    "\n",
    "from dqn_model import DQNModel\n",
    "from dqn_model import _DQNModel\n",
    "from memory import ReplayBuffer\n",
    "\n",
    "import matplotlib.pyplot as plt\n",
    "%matplotlib inline\n",
    "\n",
    "FloatTensor = torch.FloatTensor"
   ]
  },
  {
   "cell_type": "markdown",
   "metadata": {},
   "source": [
    "## Useful PyTorch functions"
   ]
  },
  {
   "cell_type": "markdown",
   "metadata": {},
   "source": [
    "### Tensors\n",
    "\n",
    "This assignment will use the PyTorch library for the required neural network functionality. You do not need to be familiar with the details of PyTorch or neural network training. However, the assignment will require dealing with data in the form of tensors.  \n",
    "\n",
    "The mini-batches used to train the PyTorch neural network is expected to be represented as a tensor matrix. The function `FloatTensor` can convert a list or NumPy matrix into a tensor matrix if needed. \n",
    "\n",
    "You can find more infomation here: https://pytorch.org/docs/stable/tensors.html"
   ]
  },
  {
   "cell_type": "code",
   "execution_count": 3,
   "metadata": {},
   "outputs": [
    {
     "name": "stdout",
     "output_type": "stream",
     "text": [
      "[[3, 2, 1], [6, 4, 5], [7, 8, 9]]\n",
      "<class 'torch.Tensor'>\n",
      "tensor([[3., 2., 1.],\n",
      "        [6., 4., 5.],\n",
      "        [7., 8., 9.]])\n"
     ]
    }
   ],
   "source": [
    "# list\n",
    "m = [[3,2,1],[6,4,5],[7,8,9]]\n",
    "print(m)\n",
    "\n",
    "# tensor matrix\n",
    "m_tensor = FloatTensor(m)\n",
    "print(type(m_tensor))\n",
    "print(m_tensor)"
   ]
  },
  {
   "cell_type": "markdown",
   "metadata": {},
   "source": [
    "### Tensor.max()\n",
    "Once you have a tenosr maxtrix, you can use torch.max(m_tensor, dim) to get the max value and max index corresponding to the dimension you choose.\n",
    "```\n",
    ">>> a = torch.randn(4, 4)\n",
    ">>> a\n",
    "tensor([[-1.2360, -0.2942, -0.1222,  0.8475],\n",
    "        [ 1.1949, -1.1127, -2.2379, -0.6702],\n",
    "        [ 1.5717, -0.9207,  0.1297, -1.8768],\n",
    "        [-0.6172,  1.0036, -0.6060, -0.2432]])\n",
    ">>> torch.max(a, 1)\n",
    "torch.return_types.max(values=tensor([0.8475, 1.1949, 1.5717, 1.0036]), indices=tensor([3, 0, 0, 1]))\n",
    "```\n",
    "You can find more infomation here: https://pytorch.org/docs/stable/torch.html#torch.max"
   ]
  },
  {
   "cell_type": "code",
   "execution_count": 4,
   "metadata": {},
   "outputs": [
    {
     "name": "stdout",
     "output_type": "stream",
     "text": [
      "tensor([3., 6., 9.]) tensor([0, 0, 2])\n"
     ]
    }
   ],
   "source": [
    "max_value, index = torch.max(m_tensor, dim = 1)\n",
    "print(max_value, index)"
   ]
  },
  {
   "cell_type": "markdown",
   "metadata": {},
   "source": [
    "## Initialize Environment\n",
    "### CartPole-v0:  \n",
    "CartPole is a classic control task that is often used as an introductory reinforcement learning benchmark. The environment involves controlling a 2d cart that can move in either the left or right direction on a frictionless track. A pole is attached to the cart via an unactuated joint. The system is controlled by applying a force of +1 or -1 to the cart. The pendulum starts upright, and the goal is to prevent it from falling over. A reward of +1 is provided for every timestep that the pole remains upright. The episode ends when the pole is more than 15 degrees from vertical, or the cart moves more than 2.4 units from the center.  \n",
    "(You can find more infomation by this Link: https://gym.openai.com/envs/CartPole-v0/)  \n",
    "  \n"
   ]
  },
  {
   "cell_type": "code",
   "execution_count": 5,
   "metadata": {},
   "outputs": [],
   "source": [
    "# Set the Env name and action space for CartPole\n",
    "ENV_NAME = 'CartPole-v0'\n",
    "# Move left, Move right\n",
    "ACTION_DICT = {\n",
    "    \"LEFT\": 0,\n",
    "    \"RIGHT\":1\n",
    "}\n",
    "# Register the environment\n",
    "env_CartPole = gym.make(ENV_NAME)"
   ]
  },
  {
   "cell_type": "code",
   "execution_count": 6,
   "metadata": {},
   "outputs": [],
   "source": [
    "# Set result saveing floder\n",
    "result_floder = ENV_NAME\n",
    "result_file = ENV_NAME + \"/results.txt\"\n",
    "if not os.path.isdir(result_floder):\n",
    "    os.mkdir(result_floder)"
   ]
  },
  {
   "cell_type": "markdown",
   "metadata": {},
   "source": [
    "## Helper Function\n",
    "Plot results."
   ]
  },
  {
   "cell_type": "code",
   "execution_count": 7,
   "metadata": {},
   "outputs": [],
   "source": [
    "def plot_result(total_rewards ,learning_num, legend):\n",
    "    print(\"\\nLearning Performance:\\n\")\n",
    "    episodes = []\n",
    "    for i in range(len(total_rewards)):\n",
    "        episodes.append(i * learning_num + 1)\n",
    "        \n",
    "    plt.figure(num = 1)\n",
    "    fig, ax = plt.subplots()\n",
    "    plt.plot(episodes, total_rewards)\n",
    "    plt.title('performance')\n",
    "    plt.legend(legend)\n",
    "    plt.xlabel(\"Episodes\")\n",
    "    plt.ylabel(\"total rewards\")\n",
    "    plt.show()"
   ]
  },
  {
   "cell_type": "markdown",
   "metadata": {},
   "source": [
    "## Hyperparams\n",
    "When function approximation is involves, especially neural networks, additional hyper parameters are inroduced and setting the parameters can require experience. Below is a list of the hyperparameters used in this assignment and values for the parameters that have worked well for a basic DQN implementation. You will adjust these values for particular parts of the assignment. For example, experiments that do not use the target network will set 'use_target_model' to False. \n",
    "\n",
    "You can find the more infomation about these hyperparameters in the notation of DQN_agent.init() function."
   ]
  },
  {
   "cell_type": "code",
   "execution_count": 11,
   "metadata": {},
   "outputs": [],
   "source": [
    "hyperparams_CartPole = {\n",
    "    'epsilon_decay_steps' : 100000, \n",
    "    'final_epsilon' : 0.1,\n",
    "    'batch_size' : 32, \n",
    "    'update_steps' : 10, \n",
    "    'memory_size' : 2000, \n",
    "    'beta' : 0.99, \n",
    "    'model_replace_freq' : 2000,\n",
    "    'learning_rate' : 0.0003,\n",
    "    'use_target_model': False\n",
    "}"
   ]
  },
  {
   "cell_type": "markdown",
   "metadata": {},
   "source": [
    "***\n",
    "# Part 1: Non-distributed DQN\n",
    "\n",
    "In this part, you will complete an implementation of DQN and run experiments on the CartPole environment from OpenAI Gym.  \n",
    "Note that OpenAI Gym has many other environments that use the same interface---so this experience will allow the curious student to easily explore these algorithms more widely. \n",
    "\n",
    "Below you need to fill in the missing code for the DQN implementation. \n",
    "\n",
    "The Run function below can then be used to generate learning curves. \n",
    "\n",
    "You should conduct the following experiments involving different features of DQN. \n",
    "\n",
    "1. DQN without a replay buffer and without a target network. This is just standard Q-learning with a function approximator.\n",
    "    The corresponding parameters are: memory_size = 1, update_steps = 1, batch_size = 1, use_target_model = False  \n",
    "    \n",
    "2. DQN without a replay buffer (but including the target network).   \n",
    "    The corresponding parameters are: memory_size = 1, update_steps = 1, batch_size = 1, use_target_model = True  \n",
    "\n",
    "3. DQN with a replay buffer, but without a target network.   \n",
    "    Here you set use_target_model = False and otherwise set the replay memory parameters to the above suggested values \n",
    "   \n",
    "4. Full DQN\n",
    "\n",
    "For each experiment, record the parameters that you used, plot the resulting learning curves, and give a summary of your observations regarding the differences you observed. \n",
    "***\n"
   ]
  },
  {
   "cell_type": "markdown",
   "metadata": {},
   "source": [
    "\n",
    "## DQN Agent\n",
    "\n",
    "The full DQN agent involves a number of functions, the neural network, and the replay memory. Interfaces to a neural network model and memory are provided. \n",
    "\n",
    "Some useful information is below:   \n",
    "- Neural Network Model: The network is used to represent the Q-function $Q(s,a)$. It takes a state $s$ as input and returns a vector of Q-values, one value for each action. The following interface functions are used for predicting Q-values, actions, and updating the neural network model parameters. \n",
    "    1. Model.predict(state) --- Returns the action that has the best Q-value in 'state'.\n",
    "    2. Model.predict_batch(states) --- This is used to predict both the Q-values and best actions for a batch of states. Given a batch of states, the function returns: 1) 'best_actions' a vector containing the best action for each input state, and 2) 'q_values' a matrix where each row gives the Q-value for all actions of each state (one row per state).   \n",
    "    3. Model.fit(q_values, q_target) --- It is used to update the neural network (via back-propagation). 'q_values' is a vector containing the Q-value predictions for a list of state-action pairs (e.g. from a batch of experience tuples). 'q_target' is a vector containing target values that we would like the correspoinding predictions to get closer to. This function updates the network in a way that the network predictions will ideally be closer to the targets. There is no return value.  \n",
    "    4. Model.replace(another_model) --- It takes another model as input, and replace the weight of itself by the input model.\n",
    "- Memory: This is the buffer used to store experience tuples for experience replay.\n",
    "    1. Memory.add(state, action, reward, state', is_terminal) --- It takes one example as input, and store it into its storage.  \n",
    "    2. Memory.sample(batch_size) --- It takes a batch_size int number as input. Return 'batch_size' number of randomly selected examples from the current memory buffer. The batch takes the form (states, actions, rewards, states', is_terminals) with each component being a vector/list of size equal to batch_size. "
   ]
  },
  {
   "cell_type": "code",
   "execution_count": 12,
   "metadata": {},
   "outputs": [],
   "source": [
    "class DQN_agent(object):\n",
    "    def __init__(self, env, hyper_params, action_space = len(ACTION_DICT)):\n",
    "        \n",
    "        self.env = env\n",
    "        self.max_episode_steps = env._max_episode_steps\n",
    "        \n",
    "        \"\"\"\n",
    "            beta: The discounted factor of Q-value function\n",
    "            (epsilon): The explore or exploit policy epsilon. \n",
    "            initial_epsilon: When the 'steps' is 0, the epsilon is initial_epsilon, 1\n",
    "            final_epsilon: After the number of 'steps' reach 'epsilon_decay_steps', \n",
    "                The epsilon set to the 'final_epsilon' determinately.\n",
    "            epsilon_decay_steps: The epsilon will decrease linearly along with the steps from 0 to 'epsilon_decay_steps'.\n",
    "        \"\"\"\n",
    "        self.beta = hyper_params['beta']\n",
    "        self.initial_epsilon = 1\n",
    "        self.final_epsilon = hyper_params['final_epsilon']\n",
    "        self.epsilon_decay_steps = hyper_params['epsilon_decay_steps']\n",
    "\n",
    "        \"\"\"\n",
    "            episode: Record training episode\n",
    "            steps: Add 1 when predicting an action\n",
    "            learning: The trigger of agent learning. It is on while training agent. It is off while testing agent.\n",
    "            action_space: The action space of the current environment, e.g 2.\n",
    "        \"\"\"\n",
    "        self.episode = 0\n",
    "        self.steps = 0\n",
    "        self.best_reward = 0\n",
    "        self.learning = True\n",
    "        self.action_space = action_space\n",
    "\n",
    "        \"\"\"\n",
    "            input_len The input length of the neural network. It equals to the length of the state vector.\n",
    "            output_len: The output length of the neural network. It is equal to the action space.\n",
    "            eval_model: The model for predicting action for the agent.\n",
    "            target_model: The model for calculating Q-value of next_state to update 'eval_model'.\n",
    "            use_target_model: Trigger for turn 'target_model' on/off\n",
    "        \"\"\"\n",
    "        state = env.reset()\n",
    "        input_len = len(state)\n",
    "        output_len = action_space\n",
    "        self.eval_model = DQNModel(input_len, output_len, learning_rate = hyper_params['learning_rate'])\n",
    "        self.use_target_model = hyper_params['use_target_model']\n",
    "        if self.use_target_model:\n",
    "            self.target_model = DQNModel(input_len, output_len)\n",
    "#         memory: Store and sample experience replay.\n",
    "        self.memory = ReplayBuffer(hyper_params['memory_size'])\n",
    "        \n",
    "        \"\"\"\n",
    "            batch_size: Mini batch size for training model.\n",
    "            update_steps: The frequence of traning model\n",
    "            model_replace_freq: The frequence of replacing 'target_model' by 'eval_model'\n",
    "        \"\"\"\n",
    "        self.batch_size = hyper_params['batch_size']\n",
    "        self.update_steps = hyper_params['update_steps']\n",
    "        self.model_replace_freq = hyper_params['model_replace_freq']\n",
    "        \n",
    "    # Linear decrease function for epsilon\n",
    "    def linear_decrease(self, initial_value, final_value, curr_steps, final_decay_steps):\n",
    "        decay_rate = curr_steps / final_decay_steps\n",
    "        if decay_rate > 1:\n",
    "            decay_rate = 1\n",
    "        return initial_value - (initial_value - final_value) * decay_rate\n",
    "    \n",
    "    def explore_or_exploit_policy(self, state):\n",
    "        p = uniform(0, 1)\n",
    "        # Get decreased epsilon\n",
    "        epsilon = self.linear_decrease(self.initial_epsilon, \n",
    "                               self.final_epsilon,\n",
    "                               self.steps,\n",
    "                               self.epsilon_decay_steps)\n",
    "\n",
    "        if p < epsilon:\n",
    "            #return action\n",
    "            return randint(0, self.action_space - 1)\n",
    "        else:\n",
    "            #return action\n",
    "            return self.greedy_policy(state)\n",
    "        \n",
    "    def greedy_policy(self, state):\n",
    "        return self.eval_model.predict(state)\n",
    "    \n",
    "    # This next function will be called in the main RL loop to update the neural network model given a batch of experience\n",
    "    # 1) Sample a 'batch_size' batch of experiences from the memory.\n",
    "    # 2) Predict the Q-value from the 'eval_model' based on (states, actions)\n",
    "    # 3) Predict the Q-value from the 'target_model' base on (next_states), and take the max of each Q-value vector, Q_max\n",
    "    # 4) If is_terminal == 1, q_target = reward, otherwise q_target = reward + discounted factor * Q_max\n",
    "    # 5) Call fit() to do the back-propagation for 'eval_model'.\n",
    "    def update_batch(self):\n",
    "        if len(self.memory) < self.batch_size: # or self.steps % self.update_steps != 0:\n",
    "            return\n",
    "\n",
    "        batch = self.memory.sample(self.batch_size)\n",
    "\n",
    "        (states, actions, reward, next_states,\n",
    "         is_terminal) = batch\n",
    "\n",
    "        \n",
    "        states = states\n",
    "        next_states = next_states\n",
    "        terminal = FloatTensor([1 if t else 0 for t in is_terminal])\n",
    "        reward = FloatTensor(reward)\n",
    "        batch_index = torch.arange(self.batch_size,\n",
    "                                   dtype=torch.long)\n",
    "        \n",
    "        # Current Q Values\n",
    "        _, q_values = self.eval_model.predict_batch(states)\n",
    "        q_values = q_values[batch_index, actions]\n",
    "        \n",
    "        # Calculate target\n",
    "        if self.use_target_model:\n",
    "            actions, q_next = self.target_model.predict_batch(next_states)\n",
    "            q_next = q_next[batch_index, actions]\n",
    "        else:\n",
    "            actions, q_next = self.eval_model.predict_batch(next_states)\n",
    "            q_next = q_next[batch_index, actions]\n",
    " \n",
    "        #INSERT YOUR CODE HERE --- neet to compute 'q_targets' used below\n",
    "        q_target = FloatTensor([reward[i] if is_terminal[i] else reward[i] + self.beta * q_next[i] for i in range(self.batch_size)])\n",
    "#         print(q_target.shape)\n",
    "#         max_value, index = torch.max(q_next, dim = 1)\n",
    "#         for i in range(len(is_terminal)):\n",
    "#             if is_terminal[i] == 1:\n",
    "#                 q_target.append(reward[i])\n",
    "#             else:       \n",
    "#                 q_target.append(reward[i] + self.beta * q_next)\n",
    "#         q_target = FloatTensor(q_target)\n",
    "        \n",
    "        # update model\n",
    "        self.eval_model.fit(q_values, q_target)\n",
    "    \n",
    "    def learn_and_evaluate(self, training_episodes, test_interval):\n",
    "        test_number = training_episodes // test_interval\n",
    "        all_results = []\n",
    "        \n",
    "        for i in range(test_number):\n",
    "            # learn\n",
    "            self.learn(test_interval)\n",
    "            \n",
    "            # evaluate\n",
    "            avg_reward = self.evaluate()\n",
    "            all_results.append(avg_reward)\n",
    "            \n",
    "        return all_results\n",
    "    \n",
    "    def learn(self, test_interval):\n",
    "        for episode in tqdm(range(test_interval), desc=\"Training\"):\n",
    "            state = self.env.reset()\n",
    "            done = False\n",
    "            steps = 0\n",
    "\n",
    "            while steps < self.max_episode_steps and not done:\n",
    "                #INSERT YOUR CODE HERE\n",
    "                # add experience from explore-exploit policy to memory\n",
    "                # update the model every 'update_steps' of experience\n",
    "                # update the target network (if the target network is being used) every 'model_replace_freq' of experiences \n",
    "                action = self.explore_or_exploit_policy(state)\n",
    "                next_state, reward, done, info = self.env.step(action)\n",
    "                self.memory.add(state, action, reward, next_state, done)\n",
    "                if (steps % self.update_steps) == 0:\n",
    "                    self.update_batch()\n",
    "                if (steps % self.model_replace_freq) == 0 and self.use_target_model:\n",
    "                    self.target_model.replace(self.eval_model)\n",
    "                steps = steps + 1 \n",
    "                self.steps = self.steps + 1\n",
    "                state = next_state\n",
    "                                \n",
    "    def evaluate(self, trials = 100):\n",
    "        total_reward = 0\n",
    "        for _ in tqdm(range(trials), desc=\"Evaluating\"):\n",
    "            state = self.env.reset()\n",
    "            done = False\n",
    "            steps = 0\n",
    "\n",
    "            while steps < self.max_episode_steps and not done:\n",
    "                steps += 1\n",
    "                action = self.greedy_policy(state)\n",
    "                state, reward, done, _ = self.env.step(action)\n",
    "                total_reward += reward\n",
    "\n",
    "        avg_reward = total_reward / trials\n",
    "        print(avg_reward)\n",
    "        f = open(result_file, \"a+\")\n",
    "        f.write(str(avg_reward) + \"\\n\")\n",
    "        f.close()\n",
    "        if avg_reward >= self.best_reward:\n",
    "            self.best_reward = avg_reward\n",
    "            self.save_model()\n",
    "        return avg_reward\n",
    "\n",
    "    # save model\n",
    "    def save_model(self):\n",
    "        self.eval_model.save(result_floder + '/best_model.pt')\n",
    "        \n",
    "    # load model\n",
    "    def load_model(self):\n",
    "        self.eval_model.load(result_floder + '/best_model.pt')"
   ]
  },
  {
   "cell_type": "markdown",
   "metadata": {},
   "source": [
    "## Run function"
   ]
  },
  {
   "cell_type": "code",
   "execution_count": 13,
   "metadata": {
    "scrolled": true
   },
   "outputs": [
    {
     "name": "stderr",
     "output_type": "stream",
     "text": [
      "Training: 100%|██████████| 50/50 [00:00<00:00, 125.44it/s]\n",
      "Evaluating: 100%|██████████| 100/100 [00:01<00:00, 67.37it/s]\n",
      "Training:  26%|██▌       | 13/50 [00:00<00:00, 115.22it/s]"
     ]
    },
    {
     "name": "stdout",
     "output_type": "stream",
     "text": [
      "103.47\n"
     ]
    },
    {
     "name": "stderr",
     "output_type": "stream",
     "text": [
      "Training: 100%|██████████| 50/50 [00:00<00:00, 123.66it/s]\n",
      "Evaluating: 100%|██████████| 100/100 [00:00<00:00, 213.46it/s]\n",
      "Training:  22%|██▏       | 11/50 [00:00<00:00, 106.28it/s]"
     ]
    },
    {
     "name": "stdout",
     "output_type": "stream",
     "text": [
      "23.01\n"
     ]
    },
    {
     "name": "stderr",
     "output_type": "stream",
     "text": [
      "Training: 100%|██████████| 50/50 [00:00<00:00, 111.25it/s]\n",
      "Evaluating: 100%|██████████| 100/100 [00:00<00:00, 490.91it/s]\n",
      "Training:  24%|██▍       | 12/50 [00:00<00:00, 116.99it/s]"
     ]
    },
    {
     "name": "stdout",
     "output_type": "stream",
     "text": [
      "9.96\n"
     ]
    },
    {
     "name": "stderr",
     "output_type": "stream",
     "text": [
      "Training: 100%|██████████| 50/50 [00:00<00:00, 141.90it/s]\n",
      "Evaluating: 100%|██████████| 100/100 [00:00<00:00, 697.04it/s]\n",
      "Training:  30%|███       | 15/50 [00:00<00:00, 146.27it/s]"
     ]
    },
    {
     "name": "stdout",
     "output_type": "stream",
     "text": [
      "9.23\n"
     ]
    },
    {
     "name": "stderr",
     "output_type": "stream",
     "text": [
      "Training: 100%|██████████| 50/50 [00:00<00:00, 154.08it/s]\n",
      "Evaluating: 100%|██████████| 100/100 [00:00<00:00, 684.44it/s]\n",
      "Training:  24%|██▍       | 12/50 [00:00<00:00, 116.34it/s]"
     ]
    },
    {
     "name": "stdout",
     "output_type": "stream",
     "text": [
      "9.39\n"
     ]
    },
    {
     "name": "stderr",
     "output_type": "stream",
     "text": [
      "Training: 100%|██████████| 50/50 [00:00<00:00, 129.22it/s]\n",
      "Evaluating: 100%|██████████| 100/100 [00:00<00:00, 753.08it/s]\n",
      "Training:  36%|███▌      | 18/50 [00:00<00:00, 172.94it/s]"
     ]
    },
    {
     "name": "stdout",
     "output_type": "stream",
     "text": [
      "9.35\n"
     ]
    },
    {
     "name": "stderr",
     "output_type": "stream",
     "text": [
      "Training: 100%|██████████| 50/50 [00:00<00:00, 152.66it/s]\n",
      "Evaluating: 100%|██████████| 100/100 [00:00<00:00, 811.26it/s]\n",
      "Training:  14%|█▍        | 7/50 [00:00<00:00, 69.41it/s]"
     ]
    },
    {
     "name": "stdout",
     "output_type": "stream",
     "text": [
      "9.21\n"
     ]
    },
    {
     "name": "stderr",
     "output_type": "stream",
     "text": [
      "Training: 100%|██████████| 50/50 [00:00<00:00, 136.16it/s]\n",
      "Evaluating: 100%|██████████| 100/100 [00:00<00:00, 817.98it/s]\n",
      "Training:  36%|███▌      | 18/50 [00:00<00:00, 176.93it/s]"
     ]
    },
    {
     "name": "stdout",
     "output_type": "stream",
     "text": [
      "9.23\n"
     ]
    },
    {
     "name": "stderr",
     "output_type": "stream",
     "text": [
      "Training: 100%|██████████| 50/50 [00:00<00:00, 164.24it/s]\n",
      "Evaluating: 100%|██████████| 100/100 [00:00<00:00, 775.22it/s]\n",
      "Training:  26%|██▌       | 13/50 [00:00<00:00, 128.37it/s]"
     ]
    },
    {
     "name": "stdout",
     "output_type": "stream",
     "text": [
      "9.26\n"
     ]
    },
    {
     "name": "stderr",
     "output_type": "stream",
     "text": [
      "Training: 100%|██████████| 50/50 [00:00<00:00, 140.49it/s]\n",
      "Evaluating: 100%|██████████| 100/100 [00:00<00:00, 802.15it/s]\n",
      "Training:   8%|▊         | 4/50 [00:00<00:01, 39.59it/s]"
     ]
    },
    {
     "name": "stdout",
     "output_type": "stream",
     "text": [
      "9.35\n"
     ]
    },
    {
     "name": "stderr",
     "output_type": "stream",
     "text": [
      "Training: 100%|██████████| 50/50 [00:00<00:00, 114.51it/s]\n",
      "Evaluating: 100%|██████████| 100/100 [00:00<00:00, 782.92it/s]\n",
      "Training:  14%|█▍        | 7/50 [00:00<00:00, 67.62it/s]"
     ]
    },
    {
     "name": "stdout",
     "output_type": "stream",
     "text": [
      "9.5\n"
     ]
    },
    {
     "name": "stderr",
     "output_type": "stream",
     "text": [
      "Training: 100%|██████████| 50/50 [00:00<00:00, 134.91it/s]\n",
      "Evaluating: 100%|██████████| 100/100 [00:00<00:00, 806.71it/s]\n",
      "Training:  26%|██▌       | 13/50 [00:00<00:00, 124.37it/s]"
     ]
    },
    {
     "name": "stdout",
     "output_type": "stream",
     "text": [
      "9.26\n"
     ]
    },
    {
     "name": "stderr",
     "output_type": "stream",
     "text": [
      "Training: 100%|██████████| 50/50 [00:00<00:00, 140.61it/s]\n",
      "Evaluating: 100%|██████████| 100/100 [00:00<00:00, 785.12it/s]\n"
     ]
    },
    {
     "name": "stdout",
     "output_type": "stream",
     "text": [
      "9.44\n"
     ]
    },
    {
     "name": "stderr",
     "output_type": "stream",
     "text": [
      "Training: 100%|██████████| 50/50 [00:00<00:00, 119.16it/s]\n",
      "Evaluating: 100%|██████████| 100/100 [00:00<00:00, 798.22it/s]\n",
      "Training:  26%|██▌       | 13/50 [00:00<00:00, 128.50it/s]"
     ]
    },
    {
     "name": "stdout",
     "output_type": "stream",
     "text": [
      "9.34\n"
     ]
    },
    {
     "name": "stderr",
     "output_type": "stream",
     "text": [
      "Training: 100%|██████████| 50/50 [00:00<00:00, 127.94it/s]\n",
      "Evaluating: 100%|██████████| 100/100 [00:00<00:00, 655.71it/s]\n",
      "Training:   4%|▍         | 2/50 [00:00<00:03, 14.77it/s]"
     ]
    },
    {
     "name": "stdout",
     "output_type": "stream",
     "text": [
      "9.35\n"
     ]
    },
    {
     "name": "stderr",
     "output_type": "stream",
     "text": [
      "Training: 100%|██████████| 50/50 [00:00<00:00, 106.47it/s]\n",
      "Evaluating: 100%|██████████| 100/100 [00:00<00:00, 795.66it/s]\n",
      "Training:  24%|██▍       | 12/50 [00:00<00:00, 110.39it/s]"
     ]
    },
    {
     "name": "stdout",
     "output_type": "stream",
     "text": [
      "9.41\n"
     ]
    },
    {
     "name": "stderr",
     "output_type": "stream",
     "text": [
      "Training: 100%|██████████| 50/50 [00:00<00:00, 125.61it/s]\n",
      "Evaluating: 100%|██████████| 100/100 [00:00<00:00, 622.37it/s]\n",
      "Training:  22%|██▏       | 11/50 [00:00<00:00, 107.84it/s]"
     ]
    },
    {
     "name": "stdout",
     "output_type": "stream",
     "text": [
      "9.33\n"
     ]
    },
    {
     "name": "stderr",
     "output_type": "stream",
     "text": [
      "Training: 100%|██████████| 50/50 [00:00<00:00, 135.59it/s]\n",
      "Evaluating: 100%|██████████| 100/100 [00:00<00:00, 743.92it/s]\n",
      "Training:  32%|███▏      | 16/50 [00:00<00:00, 156.92it/s]"
     ]
    },
    {
     "name": "stdout",
     "output_type": "stream",
     "text": [
      "9.24\n"
     ]
    },
    {
     "name": "stderr",
     "output_type": "stream",
     "text": [
      "Training: 100%|██████████| 50/50 [00:00<00:00, 146.82it/s]\n",
      "Evaluating: 100%|██████████| 100/100 [00:00<00:00, 786.86it/s]\n",
      "Training:  32%|███▏      | 16/50 [00:00<00:00, 158.29it/s]"
     ]
    },
    {
     "name": "stdout",
     "output_type": "stream",
     "text": [
      "9.26\n"
     ]
    },
    {
     "name": "stderr",
     "output_type": "stream",
     "text": [
      "Training: 100%|██████████| 50/50 [00:00<00:00, 157.48it/s]\n",
      "Evaluating: 100%|██████████| 100/100 [00:00<00:00, 802.18it/s]\n",
      "Training:  34%|███▍      | 17/50 [00:00<00:00, 166.90it/s]"
     ]
    },
    {
     "name": "stdout",
     "output_type": "stream",
     "text": [
      "9.3\n"
     ]
    },
    {
     "name": "stderr",
     "output_type": "stream",
     "text": [
      "Training: 100%|██████████| 50/50 [00:00<00:00, 164.03it/s]\n",
      "Evaluating: 100%|██████████| 100/100 [00:00<00:00, 796.34it/s]\n",
      "Training:  34%|███▍      | 17/50 [00:00<00:00, 167.21it/s]"
     ]
    },
    {
     "name": "stdout",
     "output_type": "stream",
     "text": [
      "9.35\n"
     ]
    },
    {
     "name": "stderr",
     "output_type": "stream",
     "text": [
      "Training: 100%|██████████| 50/50 [00:00<00:00, 165.48it/s]\n",
      "Evaluating: 100%|██████████| 100/100 [00:00<00:00, 800.58it/s]\n",
      "Training:  24%|██▍       | 12/50 [00:00<00:00, 119.12it/s]"
     ]
    },
    {
     "name": "stdout",
     "output_type": "stream",
     "text": [
      "9.35\n"
     ]
    },
    {
     "name": "stderr",
     "output_type": "stream",
     "text": [
      "Training: 100%|██████████| 50/50 [00:00<00:00, 145.05it/s]\n",
      "Evaluating: 100%|██████████| 100/100 [00:00<00:00, 767.20it/s]\n",
      "Training:  32%|███▏      | 16/50 [00:00<00:00, 157.86it/s]"
     ]
    },
    {
     "name": "stdout",
     "output_type": "stream",
     "text": [
      "9.32\n"
     ]
    },
    {
     "name": "stderr",
     "output_type": "stream",
     "text": [
      "Training: 100%|██████████| 50/50 [00:00<00:00, 147.93it/s]\n",
      "Evaluating: 100%|██████████| 100/100 [00:00<00:00, 807.31it/s]\n",
      "Training:  28%|██▊       | 14/50 [00:00<00:00, 138.95it/s]"
     ]
    },
    {
     "name": "stdout",
     "output_type": "stream",
     "text": [
      "9.33\n"
     ]
    },
    {
     "name": "stderr",
     "output_type": "stream",
     "text": [
      "Training: 100%|██████████| 50/50 [00:00<00:00, 152.36it/s]\n",
      "Evaluating: 100%|██████████| 100/100 [00:00<00:00, 813.18it/s]\n",
      "Training:  30%|███       | 15/50 [00:00<00:00, 146.69it/s]"
     ]
    },
    {
     "name": "stdout",
     "output_type": "stream",
     "text": [
      "9.25\n"
     ]
    },
    {
     "name": "stderr",
     "output_type": "stream",
     "text": [
      "Training: 100%|██████████| 50/50 [00:00<00:00, 154.89it/s]\n",
      "Evaluating: 100%|██████████| 100/100 [00:00<00:00, 760.67it/s]\n",
      "Training:  18%|█▊        | 9/50 [00:00<00:00, 88.45it/s]"
     ]
    },
    {
     "name": "stdout",
     "output_type": "stream",
     "text": [
      "9.38\n"
     ]
    },
    {
     "name": "stderr",
     "output_type": "stream",
     "text": [
      "Training: 100%|██████████| 50/50 [00:00<00:00, 143.30it/s]\n",
      "Evaluating: 100%|██████████| 100/100 [00:00<00:00, 781.29it/s]\n",
      "Training:  34%|███▍      | 17/50 [00:00<00:00, 166.71it/s]"
     ]
    },
    {
     "name": "stdout",
     "output_type": "stream",
     "text": [
      "9.28\n"
     ]
    },
    {
     "name": "stderr",
     "output_type": "stream",
     "text": [
      "Training: 100%|██████████| 50/50 [00:00<00:00, 165.21it/s]\n",
      "Evaluating: 100%|██████████| 100/100 [00:00<00:00, 748.03it/s]\n",
      "Training:  32%|███▏      | 16/50 [00:00<00:00, 158.38it/s]"
     ]
    },
    {
     "name": "stdout",
     "output_type": "stream",
     "text": [
      "9.33\n"
     ]
    },
    {
     "name": "stderr",
     "output_type": "stream",
     "text": [
      "Training: 100%|██████████| 50/50 [00:00<00:00, 147.80it/s]\n",
      "Evaluating: 100%|██████████| 100/100 [00:00<00:00, 783.12it/s]\n",
      "Training:  32%|███▏      | 16/50 [00:00<00:00, 141.88it/s]"
     ]
    },
    {
     "name": "stdout",
     "output_type": "stream",
     "text": [
      "9.21\n"
     ]
    },
    {
     "name": "stderr",
     "output_type": "stream",
     "text": [
      "Training: 100%|██████████| 50/50 [00:00<00:00, 155.39it/s]\n",
      "Evaluating: 100%|██████████| 100/100 [00:00<00:00, 801.88it/s]\n",
      "Training:  28%|██▊       | 14/50 [00:00<00:00, 131.18it/s]"
     ]
    },
    {
     "name": "stdout",
     "output_type": "stream",
     "text": [
      "9.34\n"
     ]
    },
    {
     "name": "stderr",
     "output_type": "stream",
     "text": [
      "Training: 100%|██████████| 50/50 [00:00<00:00, 152.09it/s]\n",
      "Evaluating: 100%|██████████| 100/100 [00:00<00:00, 688.57it/s]\n",
      "Training:  26%|██▌       | 13/50 [00:00<00:00, 126.01it/s]"
     ]
    },
    {
     "name": "stdout",
     "output_type": "stream",
     "text": [
      "9.32\n"
     ]
    },
    {
     "name": "stderr",
     "output_type": "stream",
     "text": [
      "Training: 100%|██████████| 50/50 [00:00<00:00, 115.96it/s]\n",
      "Evaluating: 100%|██████████| 100/100 [00:00<00:00, 519.01it/s]\n",
      "Training:  34%|███▍      | 17/50 [00:00<00:00, 161.43it/s]"
     ]
    },
    {
     "name": "stdout",
     "output_type": "stream",
     "text": [
      "9.45\n"
     ]
    },
    {
     "name": "stderr",
     "output_type": "stream",
     "text": [
      "Training: 100%|██████████| 50/50 [00:00<00:00, 169.93it/s]\n",
      "Evaluating: 100%|██████████| 100/100 [00:00<00:00, 683.89it/s]\n",
      "Training:  34%|███▍      | 17/50 [00:00<00:00, 164.04it/s]"
     ]
    },
    {
     "name": "stdout",
     "output_type": "stream",
     "text": [
      "9.37\n"
     ]
    },
    {
     "name": "stderr",
     "output_type": "stream",
     "text": [
      "Training: 100%|██████████| 50/50 [00:00<00:00, 172.10it/s]\n",
      "Evaluating: 100%|██████████| 100/100 [00:00<00:00, 684.97it/s]\n",
      "Training:  32%|███▏      | 16/50 [00:00<00:00, 151.97it/s]"
     ]
    },
    {
     "name": "stdout",
     "output_type": "stream",
     "text": [
      "9.39\n"
     ]
    },
    {
     "name": "stderr",
     "output_type": "stream",
     "text": [
      "Training: 100%|██████████| 50/50 [00:00<00:00, 150.72it/s]\n",
      "Evaluating: 100%|██████████| 100/100 [00:00<00:00, 683.81it/s]\n"
     ]
    },
    {
     "name": "stdout",
     "output_type": "stream",
     "text": [
      "9.4\n"
     ]
    },
    {
     "name": "stderr",
     "output_type": "stream",
     "text": [
      "Training: 100%|██████████| 50/50 [00:00<00:00, 115.35it/s]\n",
      "Evaluating: 100%|██████████| 100/100 [00:00<00:00, 797.01it/s]\n",
      "Training:  26%|██▌       | 13/50 [00:00<00:00, 127.75it/s]"
     ]
    },
    {
     "name": "stdout",
     "output_type": "stream",
     "text": [
      "9.39\n"
     ]
    },
    {
     "name": "stderr",
     "output_type": "stream",
     "text": [
      "Training: 100%|██████████| 50/50 [00:00<00:00, 154.47it/s]\n",
      "Evaluating: 100%|██████████| 100/100 [00:00<00:00, 745.72it/s]\n",
      "Training:  24%|██▍       | 12/50 [00:00<00:00, 111.70it/s]"
     ]
    },
    {
     "name": "stdout",
     "output_type": "stream",
     "text": [
      "9.33\n"
     ]
    },
    {
     "name": "stderr",
     "output_type": "stream",
     "text": [
      "Training: 100%|██████████| 50/50 [00:00<00:00, 137.59it/s]\n",
      "Evaluating: 100%|██████████| 100/100 [00:00<00:00, 619.89it/s]\n",
      "Training:  32%|███▏      | 16/50 [00:00<00:00, 153.49it/s]"
     ]
    },
    {
     "name": "stdout",
     "output_type": "stream",
     "text": [
      "9.27\n"
     ]
    },
    {
     "name": "stderr",
     "output_type": "stream",
     "text": [
      "Training: 100%|██████████| 50/50 [00:00<00:00, 159.22it/s]\n",
      "Evaluating: 100%|██████████| 100/100 [00:00<00:00, 758.11it/s]\n",
      "Training:  38%|███▊      | 19/50 [00:00<00:00, 188.16it/s]"
     ]
    },
    {
     "name": "stdout",
     "output_type": "stream",
     "text": [
      "9.36\n"
     ]
    },
    {
     "name": "stderr",
     "output_type": "stream",
     "text": [
      "Training: 100%|██████████| 50/50 [00:00<00:00, 167.89it/s]\n",
      "Evaluating: 100%|██████████| 100/100 [00:00<00:00, 787.56it/s]\n",
      "Training:  36%|███▌      | 18/50 [00:00<00:00, 167.98it/s]"
     ]
    },
    {
     "name": "stdout",
     "output_type": "stream",
     "text": [
      "9.43\n"
     ]
    },
    {
     "name": "stderr",
     "output_type": "stream",
     "text": [
      "Training: 100%|██████████| 50/50 [00:00<00:00, 156.22it/s]\n",
      "Evaluating: 100%|██████████| 100/100 [00:00<00:00, 765.31it/s]\n",
      "Training:  32%|███▏      | 16/50 [00:00<00:00, 151.87it/s]"
     ]
    },
    {
     "name": "stdout",
     "output_type": "stream",
     "text": [
      "9.36\n"
     ]
    },
    {
     "name": "stderr",
     "output_type": "stream",
     "text": [
      "Training: 100%|██████████| 50/50 [00:00<00:00, 147.46it/s]\n",
      "Evaluating: 100%|██████████| 100/100 [00:00<00:00, 798.57it/s]\n",
      "Training:  32%|███▏      | 16/50 [00:00<00:00, 157.16it/s]"
     ]
    },
    {
     "name": "stdout",
     "output_type": "stream",
     "text": [
      "9.38\n"
     ]
    },
    {
     "name": "stderr",
     "output_type": "stream",
     "text": [
      "Training: 100%|██████████| 50/50 [00:00<00:00, 163.88it/s]\n",
      "Evaluating: 100%|██████████| 100/100 [00:00<00:00, 730.78it/s]\n",
      "Training:  26%|██▌       | 13/50 [00:00<00:00, 128.20it/s]"
     ]
    },
    {
     "name": "stdout",
     "output_type": "stream",
     "text": [
      "9.34\n"
     ]
    },
    {
     "name": "stderr",
     "output_type": "stream",
     "text": [
      "Training: 100%|██████████| 50/50 [00:00<00:00, 142.94it/s]\n",
      "Evaluating: 100%|██████████| 100/100 [00:00<00:00, 601.08it/s]\n",
      "Training:  36%|███▌      | 18/50 [00:00<00:00, 173.51it/s]"
     ]
    },
    {
     "name": "stdout",
     "output_type": "stream",
     "text": [
      "9.4\n"
     ]
    },
    {
     "name": "stderr",
     "output_type": "stream",
     "text": [
      "Training: 100%|██████████| 50/50 [00:00<00:00, 188.97it/s]\n",
      "Evaluating: 100%|██████████| 100/100 [00:00<00:00, 807.01it/s]\n",
      "Training:  38%|███▊      | 19/50 [00:00<00:00, 179.22it/s]"
     ]
    },
    {
     "name": "stdout",
     "output_type": "stream",
     "text": [
      "9.13\n"
     ]
    },
    {
     "name": "stderr",
     "output_type": "stream",
     "text": [
      "Training: 100%|██████████| 50/50 [00:00<00:00, 175.59it/s]\n",
      "Evaluating: 100%|██████████| 100/100 [00:00<00:00, 748.07it/s]\n",
      "Training:  38%|███▊      | 19/50 [00:00<00:00, 187.26it/s]"
     ]
    },
    {
     "name": "stdout",
     "output_type": "stream",
     "text": [
      "9.3\n"
     ]
    },
    {
     "name": "stderr",
     "output_type": "stream",
     "text": [
      "Training: 100%|██████████| 50/50 [00:00<00:00, 190.30it/s]\n",
      "Evaluating: 100%|██████████| 100/100 [00:00<00:00, 690.93it/s]\n",
      "Training:  22%|██▏       | 11/50 [00:00<00:00, 107.46it/s]"
     ]
    },
    {
     "name": "stdout",
     "output_type": "stream",
     "text": [
      "9.24\n"
     ]
    },
    {
     "name": "stderr",
     "output_type": "stream",
     "text": [
      "Training: 100%|██████████| 50/50 [00:00<00:00, 125.94it/s]\n",
      "Evaluating: 100%|██████████| 100/100 [00:00<00:00, 521.03it/s]\n",
      "Training:  32%|███▏      | 16/50 [00:00<00:00, 151.71it/s]"
     ]
    },
    {
     "name": "stdout",
     "output_type": "stream",
     "text": [
      "9.39\n"
     ]
    },
    {
     "name": "stderr",
     "output_type": "stream",
     "text": [
      "Training: 100%|██████████| 50/50 [00:00<00:00, 174.92it/s]\n",
      "Evaluating: 100%|██████████| 100/100 [00:00<00:00, 803.69it/s]\n",
      "Training:  34%|███▍      | 17/50 [00:00<00:00, 168.60it/s]"
     ]
    },
    {
     "name": "stdout",
     "output_type": "stream",
     "text": [
      "9.38\n"
     ]
    },
    {
     "name": "stderr",
     "output_type": "stream",
     "text": [
      "Training: 100%|██████████| 50/50 [00:00<00:00, 176.92it/s]\n",
      "Evaluating: 100%|██████████| 100/100 [00:00<00:00, 806.54it/s]\n",
      "Training:  32%|███▏      | 16/50 [00:00<00:00, 153.45it/s]"
     ]
    },
    {
     "name": "stdout",
     "output_type": "stream",
     "text": [
      "9.34\n"
     ]
    },
    {
     "name": "stderr",
     "output_type": "stream",
     "text": [
      "Training: 100%|██████████| 50/50 [00:00<00:00, 145.61it/s]\n",
      "Evaluating: 100%|██████████| 100/100 [00:00<00:00, 303.20it/s]\n",
      "Training:   4%|▍         | 2/50 [00:00<00:03, 12.68it/s]"
     ]
    },
    {
     "name": "stdout",
     "output_type": "stream",
     "text": [
      "21.97\n"
     ]
    },
    {
     "name": "stderr",
     "output_type": "stream",
     "text": [
      "Training: 100%|██████████| 50/50 [00:00<00:00, 68.69it/s]\n",
      "Evaluating: 100%|██████████| 100/100 [00:00<00:00, 151.13it/s]\n",
      "Training:   4%|▍         | 2/50 [00:00<00:03, 15.28it/s]"
     ]
    },
    {
     "name": "stdout",
     "output_type": "stream",
     "text": [
      "50.85\n"
     ]
    },
    {
     "name": "stderr",
     "output_type": "stream",
     "text": [
      "Training: 100%|██████████| 50/50 [00:00<00:00, 54.33it/s]\n",
      "Evaluating: 100%|██████████| 100/100 [00:00<00:00, 178.89it/s]\n",
      "Training:   4%|▍         | 2/50 [00:00<00:02, 16.49it/s]"
     ]
    },
    {
     "name": "stdout",
     "output_type": "stream",
     "text": [
      "42.03\n"
     ]
    },
    {
     "name": "stderr",
     "output_type": "stream",
     "text": [
      "Training: 100%|██████████| 50/50 [00:01<00:00, 42.88it/s]\n",
      "Evaluating: 100%|██████████| 100/100 [00:00<00:00, 109.25it/s]\n",
      "Training:   4%|▍         | 2/50 [00:00<00:02, 17.46it/s]"
     ]
    },
    {
     "name": "stdout",
     "output_type": "stream",
     "text": [
      "54.44\n"
     ]
    },
    {
     "name": "stderr",
     "output_type": "stream",
     "text": [
      "Training: 100%|██████████| 50/50 [00:00<00:00, 48.69it/s]\n",
      "Evaluating: 100%|██████████| 100/100 [00:01<00:00, 82.64it/s]\n",
      "Training:   2%|▏         | 1/50 [00:00<00:06,  7.61it/s]"
     ]
    },
    {
     "name": "stdout",
     "output_type": "stream",
     "text": [
      "91.88\n"
     ]
    },
    {
     "name": "stderr",
     "output_type": "stream",
     "text": [
      "Training: 100%|██████████| 50/50 [00:01<00:00, 31.11it/s]\n",
      "Evaluating: 100%|██████████| 100/100 [00:01<00:00, 52.84it/s]\n",
      "Training:   2%|▏         | 1/50 [00:00<00:07,  6.54it/s]"
     ]
    },
    {
     "name": "stdout",
     "output_type": "stream",
     "text": [
      "111.36\n"
     ]
    },
    {
     "name": "stderr",
     "output_type": "stream",
     "text": [
      "Training: 100%|██████████| 50/50 [00:01<00:00, 25.89it/s]\n",
      "Evaluating: 100%|██████████| 100/100 [00:02<00:00, 49.16it/s]\n",
      "Training:   4%|▍         | 2/50 [00:00<00:02, 18.76it/s]"
     ]
    },
    {
     "name": "stdout",
     "output_type": "stream",
     "text": [
      "154.07\n"
     ]
    },
    {
     "name": "stderr",
     "output_type": "stream",
     "text": [
      "Training: 100%|██████████| 50/50 [00:02<00:00, 18.65it/s]\n",
      "Evaluating: 100%|██████████| 100/100 [00:02<00:00, 35.38it/s]\n",
      "Training:   2%|▏         | 1/50 [00:00<00:07,  6.73it/s]"
     ]
    },
    {
     "name": "stdout",
     "output_type": "stream",
     "text": [
      "183.62\n"
     ]
    },
    {
     "name": "stderr",
     "output_type": "stream",
     "text": [
      "Training: 100%|██████████| 50/50 [00:02<00:00, 17.43it/s]\n",
      "Evaluating: 100%|██████████| 100/100 [00:02<00:00, 39.99it/s]\n",
      "Training:   2%|▏         | 1/50 [00:00<00:07,  6.93it/s]"
     ]
    },
    {
     "name": "stdout",
     "output_type": "stream",
     "text": [
      "192.77\n"
     ]
    },
    {
     "name": "stderr",
     "output_type": "stream",
     "text": [
      "Training: 100%|██████████| 50/50 [00:01<00:00, 44.07it/s]\n",
      "Evaluating: 100%|██████████| 100/100 [00:02<00:00, 37.19it/s]\n",
      "Training:   2%|▏         | 1/50 [00:00<00:05,  8.94it/s]"
     ]
    },
    {
     "name": "stdout",
     "output_type": "stream",
     "text": [
      "198.76\n"
     ]
    },
    {
     "name": "stderr",
     "output_type": "stream",
     "text": [
      "Training: 100%|██████████| 50/50 [00:01<00:00, 33.19it/s]\n",
      "Evaluating: 100%|██████████| 100/100 [00:00<00:00, 155.24it/s]\n",
      "Training:   6%|▌         | 3/50 [00:00<00:01, 25.15it/s]"
     ]
    },
    {
     "name": "stdout",
     "output_type": "stream",
     "text": [
      "48.25\n"
     ]
    },
    {
     "name": "stderr",
     "output_type": "stream",
     "text": [
      "Training: 100%|██████████| 50/50 [00:01<00:00, 42.53it/s]\n",
      "Evaluating: 100%|██████████| 100/100 [00:00<00:00, 254.82it/s]\n",
      "Training:  18%|█▊        | 9/50 [00:00<00:00, 82.08it/s]"
     ]
    },
    {
     "name": "stdout",
     "output_type": "stream",
     "text": [
      "23.24\n"
     ]
    },
    {
     "name": "stderr",
     "output_type": "stream",
     "text": [
      "Training: 100%|██████████| 50/50 [00:01<00:00, 45.41it/s]\n",
      "Evaluating: 100%|██████████| 100/100 [00:00<00:00, 132.66it/s]\n",
      "Training:   2%|▏         | 1/50 [00:00<00:05,  9.35it/s]"
     ]
    },
    {
     "name": "stdout",
     "output_type": "stream",
     "text": [
      "57.47\n"
     ]
    },
    {
     "name": "stderr",
     "output_type": "stream",
     "text": [
      "Training: 100%|██████████| 50/50 [00:01<00:00, 28.94it/s]\n",
      "Evaluating: 100%|██████████| 100/100 [00:01<00:00, 97.41it/s]\n",
      "Training:   6%|▌         | 3/50 [00:00<00:01, 23.68it/s]"
     ]
    },
    {
     "name": "stdout",
     "output_type": "stream",
     "text": [
      "79.24\n"
     ]
    },
    {
     "name": "stderr",
     "output_type": "stream",
     "text": [
      "Training: 100%|██████████| 50/50 [00:02<00:00, 24.49it/s]\n",
      "Evaluating: 100%|██████████| 100/100 [00:01<00:00, 76.96it/s]\n",
      "Training:   8%|▊         | 4/50 [00:00<00:01, 34.56it/s]"
     ]
    },
    {
     "name": "stdout",
     "output_type": "stream",
     "text": [
      "100.71\n"
     ]
    },
    {
     "name": "stderr",
     "output_type": "stream",
     "text": [
      "Training: 100%|██████████| 50/50 [00:02<00:00, 21.57it/s]\n",
      "Evaluating: 100%|██████████| 100/100 [00:01<00:00, 62.50it/s]\n",
      "Training:   0%|          | 0/50 [00:00<?, ?it/s]"
     ]
    },
    {
     "name": "stdout",
     "output_type": "stream",
     "text": [
      "122.5\n"
     ]
    },
    {
     "name": "stderr",
     "output_type": "stream",
     "text": [
      "Training: 100%|██████████| 50/50 [00:01<00:00, 30.48it/s]\n",
      "Evaluating: 100%|██████████| 100/100 [00:02<00:00, 46.02it/s]\n",
      "Training:   2%|▏         | 1/50 [00:00<00:09,  5.41it/s]"
     ]
    },
    {
     "name": "stdout",
     "output_type": "stream",
     "text": [
      "165.13\n"
     ]
    },
    {
     "name": "stderr",
     "output_type": "stream",
     "text": [
      "Training: 100%|██████████| 50/50 [00:03<00:00, 13.40it/s]\n",
      "Evaluating: 100%|██████████| 100/100 [00:02<00:00, 38.52it/s]\n",
      "Training:   4%|▍         | 2/50 [00:00<00:03, 12.19it/s]"
     ]
    },
    {
     "name": "stdout",
     "output_type": "stream",
     "text": [
      "200.0\n"
     ]
    },
    {
     "name": "stderr",
     "output_type": "stream",
     "text": [
      "Training: 100%|██████████| 50/50 [00:03<00:00, 15.25it/s]\n",
      "Evaluating: 100%|██████████| 100/100 [00:01<00:00, 52.90it/s]\n",
      "Training:   4%|▍         | 2/50 [00:00<00:03, 13.91it/s]"
     ]
    },
    {
     "name": "stdout",
     "output_type": "stream",
     "text": [
      "145.47\n"
     ]
    },
    {
     "name": "stderr",
     "output_type": "stream",
     "text": [
      "Training: 100%|██████████| 50/50 [00:03<00:00, 15.37it/s]\n",
      "Evaluating: 100%|██████████| 100/100 [00:02<00:00, 38.65it/s]\n",
      "Training:   2%|▏         | 1/50 [00:00<00:05,  8.27it/s]"
     ]
    },
    {
     "name": "stdout",
     "output_type": "stream",
     "text": [
      "200.0\n"
     ]
    },
    {
     "name": "stderr",
     "output_type": "stream",
     "text": [
      "Training: 100%|██████████| 50/50 [00:03<00:00, 13.25it/s]\n",
      "Evaluating: 100%|██████████| 100/100 [00:02<00:00, 37.65it/s]\n",
      "Training:   4%|▍         | 2/50 [00:00<00:03, 14.13it/s]"
     ]
    },
    {
     "name": "stdout",
     "output_type": "stream",
     "text": [
      "200.0\n"
     ]
    },
    {
     "name": "stderr",
     "output_type": "stream",
     "text": [
      "Training: 100%|██████████| 50/50 [00:03<00:00, 15.31it/s]\n",
      "Evaluating: 100%|██████████| 100/100 [00:02<00:00, 38.49it/s]\n",
      "Training:   2%|▏         | 1/50 [00:00<00:09,  5.41it/s]"
     ]
    },
    {
     "name": "stdout",
     "output_type": "stream",
     "text": [
      "200.0\n"
     ]
    },
    {
     "name": "stderr",
     "output_type": "stream",
     "text": [
      "Training: 100%|██████████| 50/50 [00:03<00:00, 12.85it/s]\n",
      "Evaluating: 100%|██████████| 100/100 [00:02<00:00, 38.54it/s]\n",
      "Training:   0%|          | 0/50 [00:00<?, ?it/s]"
     ]
    },
    {
     "name": "stdout",
     "output_type": "stream",
     "text": [
      "200.0\n"
     ]
    },
    {
     "name": "stderr",
     "output_type": "stream",
     "text": [
      "Training: 100%|██████████| 50/50 [00:03<00:00, 12.84it/s]\n",
      "Evaluating: 100%|██████████| 100/100 [00:02<00:00, 38.75it/s]\n",
      "Training:   4%|▍         | 2/50 [00:00<00:03, 12.09it/s]"
     ]
    },
    {
     "name": "stdout",
     "output_type": "stream",
     "text": [
      "200.0\n"
     ]
    },
    {
     "name": "stderr",
     "output_type": "stream",
     "text": [
      "Training: 100%|██████████| 50/50 [00:03<00:00, 15.31it/s]\n",
      "Evaluating: 100%|██████████| 100/100 [00:02<00:00, 38.49it/s]\n",
      "Training:   2%|▏         | 1/50 [00:00<00:08,  5.83it/s]"
     ]
    },
    {
     "name": "stdout",
     "output_type": "stream",
     "text": [
      "200.0\n"
     ]
    },
    {
     "name": "stderr",
     "output_type": "stream",
     "text": [
      "Training: 100%|██████████| 50/50 [00:03<00:00, 13.15it/s]\n",
      "Evaluating: 100%|██████████| 100/100 [00:02<00:00, 38.35it/s]\n",
      "Training:   4%|▍         | 2/50 [00:00<00:03, 13.72it/s]"
     ]
    },
    {
     "name": "stdout",
     "output_type": "stream",
     "text": [
      "200.0\n"
     ]
    },
    {
     "name": "stderr",
     "output_type": "stream",
     "text": [
      "Training: 100%|██████████| 50/50 [00:01<00:00, 16.48it/s]\n",
      "Evaluating: 100%|██████████| 100/100 [00:02<00:00, 38.39it/s]\n",
      "Training:   2%|▏         | 1/50 [00:00<00:06,  8.06it/s]"
     ]
    },
    {
     "name": "stdout",
     "output_type": "stream",
     "text": [
      "200.0\n"
     ]
    },
    {
     "name": "stderr",
     "output_type": "stream",
     "text": [
      "Training: 100%|██████████| 50/50 [00:03<00:00, 13.03it/s]\n",
      "Evaluating: 100%|██████████| 100/100 [00:02<00:00, 38.40it/s]\n",
      "Training:   2%|▏         | 1/50 [00:00<00:08,  5.62it/s]"
     ]
    },
    {
     "name": "stdout",
     "output_type": "stream",
     "text": [
      "200.0\n"
     ]
    },
    {
     "name": "stderr",
     "output_type": "stream",
     "text": [
      "Training: 100%|██████████| 50/50 [00:03<00:00, 12.86it/s]\n",
      "Evaluating: 100%|██████████| 100/100 [00:00<00:00, 171.86it/s]\n",
      "Training:  12%|█▏        | 6/50 [00:00<00:00, 57.44it/s]"
     ]
    },
    {
     "name": "stdout",
     "output_type": "stream",
     "text": [
      "44.23\n"
     ]
    },
    {
     "name": "stderr",
     "output_type": "stream",
     "text": [
      "Training: 100%|██████████| 50/50 [00:02<00:00, 16.99it/s]\n",
      "Evaluating: 100%|██████████| 100/100 [00:02<00:00, 35.35it/s]\n",
      "Training:   4%|▍         | 2/50 [00:00<00:04, 11.80it/s]"
     ]
    },
    {
     "name": "stdout",
     "output_type": "stream",
     "text": [
      "187.2\n"
     ]
    },
    {
     "name": "stderr",
     "output_type": "stream",
     "text": [
      "Training: 100%|██████████| 50/50 [00:03<00:00, 15.97it/s]\n",
      "Evaluating: 100%|██████████| 100/100 [00:01<00:00, 53.84it/s]\n",
      "Training:   2%|▏         | 1/50 [00:00<00:05,  8.27it/s]"
     ]
    },
    {
     "name": "stdout",
     "output_type": "stream",
     "text": [
      "136.27\n"
     ]
    },
    {
     "name": "stderr",
     "output_type": "stream",
     "text": [
      "Training: 100%|██████████| 50/50 [00:02<00:00, 21.03it/s]\n",
      "Evaluating: 100%|██████████| 100/100 [00:02<00:00, 38.73it/s]\n",
      "Training:   4%|▍         | 2/50 [00:00<00:03, 14.41it/s]"
     ]
    },
    {
     "name": "stdout",
     "output_type": "stream",
     "text": [
      "200.0\n"
     ]
    },
    {
     "name": "stderr",
     "output_type": "stream",
     "text": [
      "Training: 100%|██████████| 50/50 [00:02<00:00, 13.53it/s]\n",
      "Evaluating: 100%|██████████| 100/100 [00:02<00:00, 38.38it/s]\n",
      "Training:   2%|▏         | 1/50 [00:00<00:07,  6.75it/s]"
     ]
    },
    {
     "name": "stdout",
     "output_type": "stream",
     "text": [
      "200.0\n"
     ]
    },
    {
     "name": "stderr",
     "output_type": "stream",
     "text": [
      "Training: 100%|██████████| 50/50 [00:03<00:00, 13.53it/s]\n",
      "Evaluating: 100%|██████████| 100/100 [00:01<00:00, 59.80it/s]\n",
      "Training:   2%|▏         | 1/50 [00:00<00:07,  6.99it/s]"
     ]
    },
    {
     "name": "stdout",
     "output_type": "stream",
     "text": [
      "128.35\n"
     ]
    },
    {
     "name": "stderr",
     "output_type": "stream",
     "text": [
      "Training: 100%|██████████| 50/50 [00:03<00:00, 13.48it/s]\n",
      "Evaluating: 100%|██████████| 100/100 [00:02<00:00, 38.71it/s]\n",
      "Training:   2%|▏         | 1/50 [00:00<00:06,  7.42it/s]"
     ]
    },
    {
     "name": "stdout",
     "output_type": "stream",
     "text": [
      "200.0\n"
     ]
    },
    {
     "name": "stderr",
     "output_type": "stream",
     "text": [
      "Training: 100%|██████████| 50/50 [00:04<00:00, 10.81it/s]\n",
      "Evaluating: 100%|██████████| 100/100 [00:02<00:00, 37.65it/s]\n",
      "Training:   4%|▍         | 2/50 [00:00<00:03, 12.93it/s]"
     ]
    },
    {
     "name": "stdout",
     "output_type": "stream",
     "text": [
      "200.0\n"
     ]
    },
    {
     "name": "stderr",
     "output_type": "stream",
     "text": [
      "Training: 100%|██████████| 50/50 [00:03<00:00, 13.38it/s]\n",
      "Evaluating: 100%|██████████| 100/100 [00:02<00:00, 38.60it/s]\n",
      "Training:   4%|▍         | 2/50 [00:00<00:03, 13.41it/s]"
     ]
    },
    {
     "name": "stdout",
     "output_type": "stream",
     "text": [
      "200.0\n"
     ]
    },
    {
     "name": "stderr",
     "output_type": "stream",
     "text": [
      "Training: 100%|██████████| 50/50 [00:03<00:00, 13.33it/s]\n",
      "Evaluating: 100%|██████████| 100/100 [00:02<00:00, 34.83it/s]\n",
      "Training:   2%|▏         | 1/50 [00:00<00:08,  5.51it/s]"
     ]
    },
    {
     "name": "stdout",
     "output_type": "stream",
     "text": [
      "200.0\n"
     ]
    },
    {
     "name": "stderr",
     "output_type": "stream",
     "text": [
      "Training: 100%|██████████| 50/50 [00:03<00:00, 13.35it/s]\n",
      "Evaluating: 100%|██████████| 100/100 [00:02<00:00, 38.57it/s]\n",
      "Training:   0%|          | 0/50 [00:00<?, ?it/s]"
     ]
    },
    {
     "name": "stdout",
     "output_type": "stream",
     "text": [
      "200.0\n"
     ]
    },
    {
     "name": "stderr",
     "output_type": "stream",
     "text": [
      "Training: 100%|██████████| 50/50 [00:04<00:00, 12.47it/s]\n",
      "Evaluating: 100%|██████████| 100/100 [00:02<00:00, 38.38it/s]\n",
      "Training:   2%|▏         | 1/50 [00:00<00:06,  7.25it/s]"
     ]
    },
    {
     "name": "stdout",
     "output_type": "stream",
     "text": [
      "200.0\n"
     ]
    },
    {
     "name": "stderr",
     "output_type": "stream",
     "text": [
      "Training: 100%|██████████| 50/50 [00:03<00:00, 13.18it/s]\n",
      "Evaluating: 100%|██████████| 100/100 [00:02<00:00, 38.56it/s]\n",
      "Training:   2%|▏         | 1/50 [00:00<00:08,  5.86it/s]"
     ]
    },
    {
     "name": "stdout",
     "output_type": "stream",
     "text": [
      "200.0\n"
     ]
    },
    {
     "name": "stderr",
     "output_type": "stream",
     "text": [
      "Training: 100%|██████████| 50/50 [00:03<00:00, 13.20it/s]\n",
      "Evaluating: 100%|██████████| 100/100 [00:02<00:00, 38.62it/s]\n",
      "Training:   0%|          | 0/50 [00:00<?, ?it/s]"
     ]
    },
    {
     "name": "stdout",
     "output_type": "stream",
     "text": [
      "200.0\n"
     ]
    },
    {
     "name": "stderr",
     "output_type": "stream",
     "text": [
      "Training: 100%|██████████| 50/50 [00:02<00:00, 17.17it/s]\n",
      "Evaluating: 100%|██████████| 100/100 [00:02<00:00, 33.42it/s]\n",
      "Training:   2%|▏         | 1/50 [00:00<00:04,  9.93it/s]"
     ]
    },
    {
     "name": "stdout",
     "output_type": "stream",
     "text": [
      "200.0\n"
     ]
    },
    {
     "name": "stderr",
     "output_type": "stream",
     "text": [
      "Training: 100%|██████████| 50/50 [00:03<00:00, 15.20it/s]\n",
      "Evaluating: 100%|██████████| 100/100 [00:02<00:00, 32.93it/s]\n",
      "Training:   4%|▍         | 2/50 [00:00<00:03, 13.40it/s]"
     ]
    },
    {
     "name": "stdout",
     "output_type": "stream",
     "text": [
      "200.0\n"
     ]
    },
    {
     "name": "stderr",
     "output_type": "stream",
     "text": [
      "Training: 100%|██████████| 50/50 [00:00<00:00, 68.02it/s]\n",
      "Evaluating: 100%|██████████| 100/100 [00:01<00:00, 96.80it/s]\n",
      "Training:   8%|▊         | 4/50 [00:00<00:01, 35.98it/s]"
     ]
    },
    {
     "name": "stdout",
     "output_type": "stream",
     "text": [
      "73.81\n"
     ]
    },
    {
     "name": "stderr",
     "output_type": "stream",
     "text": [
      "Training: 100%|██████████| 50/50 [00:03<00:00, 13.21it/s]\n",
      "Evaluating: 100%|██████████| 100/100 [00:02<00:00, 38.39it/s]\n",
      "Training:   4%|▍         | 2/50 [00:00<00:03, 12.16it/s]"
     ]
    },
    {
     "name": "stdout",
     "output_type": "stream",
     "text": [
      "200.0\n"
     ]
    },
    {
     "name": "stderr",
     "output_type": "stream",
     "text": [
      "Training: 100%|██████████| 50/50 [00:03<00:00, 13.47it/s]\n",
      "Evaluating: 100%|██████████| 100/100 [00:02<00:00, 38.47it/s]\n",
      "Training:   4%|▍         | 2/50 [00:00<00:03, 12.93it/s]"
     ]
    },
    {
     "name": "stdout",
     "output_type": "stream",
     "text": [
      "200.0\n"
     ]
    },
    {
     "name": "stderr",
     "output_type": "stream",
     "text": [
      "Training: 100%|██████████| 50/50 [00:03<00:00, 13.39it/s]\n",
      "Evaluating: 100%|██████████| 100/100 [00:02<00:00, 37.76it/s]\n",
      "Training:   0%|          | 0/50 [00:00<?, ?it/s]"
     ]
    },
    {
     "name": "stdout",
     "output_type": "stream",
     "text": [
      "200.0\n"
     ]
    },
    {
     "name": "stderr",
     "output_type": "stream",
     "text": [
      "Training: 100%|██████████| 50/50 [00:03<00:00, 12.66it/s]\n",
      "Evaluating: 100%|██████████| 100/100 [00:02<00:00, 30.89it/s]\n",
      "Training:   4%|▍         | 2/50 [00:00<00:04, 11.70it/s]"
     ]
    },
    {
     "name": "stdout",
     "output_type": "stream",
     "text": [
      "200.0\n"
     ]
    },
    {
     "name": "stderr",
     "output_type": "stream",
     "text": [
      "Training: 100%|██████████| 50/50 [00:03<00:00, 13.15it/s]\n",
      "Evaluating: 100%|██████████| 100/100 [00:02<00:00, 38.71it/s]\n",
      "Training:   0%|          | 0/50 [00:00<?, ?it/s]"
     ]
    },
    {
     "name": "stdout",
     "output_type": "stream",
     "text": [
      "200.0\n"
     ]
    },
    {
     "name": "stderr",
     "output_type": "stream",
     "text": [
      "Training: 100%|██████████| 50/50 [00:04<00:00, 12.37it/s]\n",
      "Evaluating: 100%|██████████| 100/100 [00:02<00:00, 36.11it/s]\n",
      "Training:   0%|          | 0/50 [00:00<?, ?it/s]"
     ]
    },
    {
     "name": "stdout",
     "output_type": "stream",
     "text": [
      "200.0\n"
     ]
    },
    {
     "name": "stderr",
     "output_type": "stream",
     "text": [
      "Training: 100%|██████████| 50/50 [00:04<00:00, 10.38it/s]\n",
      "Evaluating: 100%|██████████| 100/100 [00:03<00:00, 29.78it/s]\n",
      "Training:   0%|          | 0/50 [00:00<?, ?it/s]"
     ]
    },
    {
     "name": "stdout",
     "output_type": "stream",
     "text": [
      "200.0\n"
     ]
    },
    {
     "name": "stderr",
     "output_type": "stream",
     "text": [
      "Training: 100%|██████████| 50/50 [00:03<00:00, 12.65it/s]\n",
      "Evaluating: 100%|██████████| 100/100 [00:02<00:00, 38.50it/s]\n",
      "Training:   2%|▏         | 1/50 [00:00<00:04,  9.83it/s]"
     ]
    },
    {
     "name": "stdout",
     "output_type": "stream",
     "text": [
      "200.0\n"
     ]
    },
    {
     "name": "stderr",
     "output_type": "stream",
     "text": [
      "Training: 100%|██████████| 50/50 [00:03<00:00, 15.08it/s]\n",
      "Evaluating: 100%|██████████| 100/100 [00:02<00:00, 38.49it/s]\n",
      "Training:   2%|▏         | 1/50 [00:00<00:05,  8.17it/s]"
     ]
    },
    {
     "name": "stdout",
     "output_type": "stream",
     "text": [
      "200.0\n"
     ]
    },
    {
     "name": "stderr",
     "output_type": "stream",
     "text": [
      "Training: 100%|██████████| 50/50 [00:04<00:00, 10.50it/s]\n",
      "Evaluating: 100%|██████████| 100/100 [00:03<00:00, 30.89it/s]\n",
      "Training:   0%|          | 0/50 [00:00<?, ?it/s]"
     ]
    },
    {
     "name": "stdout",
     "output_type": "stream",
     "text": [
      "200.0\n"
     ]
    },
    {
     "name": "stderr",
     "output_type": "stream",
     "text": [
      "Training: 100%|██████████| 50/50 [00:03<00:00, 12.78it/s]\n",
      "Evaluating: 100%|██████████| 100/100 [00:02<00:00, 37.89it/s]\n",
      "Training:   2%|▏         | 1/50 [00:00<00:05,  9.62it/s]"
     ]
    },
    {
     "name": "stdout",
     "output_type": "stream",
     "text": [
      "200.0\n"
     ]
    },
    {
     "name": "stderr",
     "output_type": "stream",
     "text": [
      "Training: 100%|██████████| 50/50 [00:04<00:00, 10.39it/s]\n",
      "Evaluating: 100%|██████████| 100/100 [00:03<00:00, 29.99it/s]\n",
      "Training:   4%|▍         | 2/50 [00:00<00:03, 12.38it/s]"
     ]
    },
    {
     "name": "stdout",
     "output_type": "stream",
     "text": [
      "200.0\n"
     ]
    },
    {
     "name": "stderr",
     "output_type": "stream",
     "text": [
      "Training: 100%|██████████| 50/50 [00:03<00:00, 13.27it/s]\n",
      "Evaluating: 100%|██████████| 100/100 [00:02<00:00, 33.65it/s]\n",
      "Training:   0%|          | 0/50 [00:00<?, ?it/s]"
     ]
    },
    {
     "name": "stdout",
     "output_type": "stream",
     "text": [
      "200.0\n"
     ]
    },
    {
     "name": "stderr",
     "output_type": "stream",
     "text": [
      "Training: 100%|██████████| 50/50 [00:02<00:00, 24.29it/s]\n",
      "Evaluating: 100%|██████████| 100/100 [00:00<00:00, 122.55it/s]\n",
      "Training:   8%|▊         | 4/50 [00:00<00:01, 35.17it/s]"
     ]
    },
    {
     "name": "stdout",
     "output_type": "stream",
     "text": [
      "63.33\n"
     ]
    },
    {
     "name": "stderr",
     "output_type": "stream",
     "text": [
      "Training: 100%|██████████| 50/50 [00:03<00:00, 16.13it/s]\n",
      "Evaluating: 100%|██████████| 100/100 [00:03<00:00, 31.90it/s]\n",
      "Training:   2%|▏         | 1/50 [00:00<00:07,  6.71it/s]"
     ]
    },
    {
     "name": "stdout",
     "output_type": "stream",
     "text": [
      "200.0\n"
     ]
    },
    {
     "name": "stderr",
     "output_type": "stream",
     "text": [
      "Training: 100%|██████████| 50/50 [00:03<00:00, 13.07it/s]\n",
      "Evaluating: 100%|██████████| 100/100 [00:02<00:00, 37.96it/s]\n",
      "Training:   4%|▍         | 2/50 [00:00<00:04, 11.59it/s]"
     ]
    },
    {
     "name": "stdout",
     "output_type": "stream",
     "text": [
      "200.0\n"
     ]
    },
    {
     "name": "stderr",
     "output_type": "stream",
     "text": [
      "Training: 100%|██████████| 50/50 [00:03<00:00, 13.18it/s]\n",
      "Evaluating: 100%|██████████| 100/100 [00:02<00:00, 38.41it/s]\n",
      "Training:   4%|▍         | 2/50 [00:00<00:03, 12.10it/s]"
     ]
    },
    {
     "name": "stdout",
     "output_type": "stream",
     "text": [
      "200.0\n"
     ]
    },
    {
     "name": "stderr",
     "output_type": "stream",
     "text": [
      "Training: 100%|██████████| 50/50 [00:03<00:00, 13.69it/s]\n",
      "Evaluating: 100%|██████████| 100/100 [00:02<00:00, 38.45it/s]\n",
      "Training:   4%|▍         | 2/50 [00:00<00:03, 13.28it/s]"
     ]
    },
    {
     "name": "stdout",
     "output_type": "stream",
     "text": [
      "200.0\n"
     ]
    },
    {
     "name": "stderr",
     "output_type": "stream",
     "text": [
      "Training: 100%|██████████| 50/50 [00:03<00:00, 13.60it/s]\n",
      "Evaluating: 100%|██████████| 100/100 [00:02<00:00, 34.88it/s]\n",
      "Training:   2%|▏         | 1/50 [00:00<00:04,  9.98it/s]"
     ]
    },
    {
     "name": "stdout",
     "output_type": "stream",
     "text": [
      "200.0\n"
     ]
    },
    {
     "name": "stderr",
     "output_type": "stream",
     "text": [
      "Training: 100%|██████████| 50/50 [00:03<00:00, 13.60it/s]\n",
      "Evaluating: 100%|██████████| 100/100 [00:02<00:00, 37.97it/s]\n",
      "Training:   2%|▏         | 1/50 [00:00<00:05,  8.97it/s]"
     ]
    },
    {
     "name": "stdout",
     "output_type": "stream",
     "text": [
      "200.0\n"
     ]
    },
    {
     "name": "stderr",
     "output_type": "stream",
     "text": [
      "Training: 100%|██████████| 50/50 [00:03<00:00, 13.13it/s]\n",
      "Evaluating: 100%|██████████| 100/100 [00:02<00:00, 38.55it/s]\n",
      "Training:   4%|▍         | 2/50 [00:00<00:03, 12.01it/s]"
     ]
    },
    {
     "name": "stdout",
     "output_type": "stream",
     "text": [
      "200.0\n"
     ]
    },
    {
     "name": "stderr",
     "output_type": "stream",
     "text": [
      "Training: 100%|██████████| 50/50 [00:03<00:00, 13.25it/s]\n",
      "Evaluating: 100%|██████████| 100/100 [00:02<00:00, 38.51it/s]\n",
      "Training:   2%|▏         | 1/50 [00:00<00:06,  7.46it/s]"
     ]
    },
    {
     "name": "stdout",
     "output_type": "stream",
     "text": [
      "200.0\n"
     ]
    },
    {
     "name": "stderr",
     "output_type": "stream",
     "text": [
      "Training: 100%|██████████| 50/50 [00:03<00:00, 13.08it/s]\n",
      "Evaluating: 100%|██████████| 100/100 [00:02<00:00, 38.51it/s]\n",
      "Training:   0%|          | 0/50 [00:00<?, ?it/s]"
     ]
    },
    {
     "name": "stdout",
     "output_type": "stream",
     "text": [
      "200.0\n"
     ]
    },
    {
     "name": "stderr",
     "output_type": "stream",
     "text": [
      "Training: 100%|██████████| 50/50 [00:03<00:00, 12.97it/s]\n",
      "Evaluating: 100%|██████████| 100/100 [00:01<00:00, 52.79it/s]\n",
      "Training:   0%|          | 0/50 [00:00<?, ?it/s]"
     ]
    },
    {
     "name": "stdout",
     "output_type": "stream",
     "text": [
      "143.72\n"
     ]
    },
    {
     "name": "stderr",
     "output_type": "stream",
     "text": [
      "Training: 100%|██████████| 50/50 [00:04<00:00, 10.05it/s]\n",
      "Evaluating: 100%|██████████| 100/100 [00:02<00:00, 38.02it/s]\n",
      "Training:   0%|          | 0/50 [00:00<?, ?it/s]"
     ]
    },
    {
     "name": "stdout",
     "output_type": "stream",
     "text": [
      "200.0\n"
     ]
    },
    {
     "name": "stderr",
     "output_type": "stream",
     "text": [
      "Training: 100%|██████████| 50/50 [00:04<00:00, 11.95it/s]\n",
      "Evaluating: 100%|██████████| 100/100 [00:02<00:00, 34.54it/s]\n",
      "Training:   4%|▍         | 2/50 [00:00<00:04, 11.44it/s]"
     ]
    },
    {
     "name": "stdout",
     "output_type": "stream",
     "text": [
      "200.0\n"
     ]
    },
    {
     "name": "stderr",
     "output_type": "stream",
     "text": [
      "Training: 100%|██████████| 50/50 [00:02<00:00, 17.37it/s]\n",
      "Evaluating: 100%|██████████| 100/100 [00:01<00:00, 80.23it/s]\n",
      "Training:   4%|▍         | 2/50 [00:00<00:03, 12.69it/s]"
     ]
    },
    {
     "name": "stdout",
     "output_type": "stream",
     "text": [
      "94.36\n"
     ]
    },
    {
     "name": "stderr",
     "output_type": "stream",
     "text": [
      "Training: 100%|██████████| 50/50 [00:03<00:00, 13.62it/s]\n",
      "Evaluating: 100%|██████████| 100/100 [00:02<00:00, 38.21it/s]\n",
      "Training:   4%|▍         | 2/50 [00:00<00:03, 13.81it/s]"
     ]
    },
    {
     "name": "stdout",
     "output_type": "stream",
     "text": [
      "200.0\n"
     ]
    },
    {
     "name": "stderr",
     "output_type": "stream",
     "text": [
      "Training: 100%|██████████| 50/50 [00:03<00:00, 11.09it/s]\n",
      "Evaluating: 100%|██████████| 100/100 [00:03<00:00, 29.85it/s]\n",
      "Training:   4%|▍         | 2/50 [00:00<00:03, 12.29it/s]"
     ]
    },
    {
     "name": "stdout",
     "output_type": "stream",
     "text": [
      "200.0\n"
     ]
    },
    {
     "name": "stderr",
     "output_type": "stream",
     "text": [
      "Training: 100%|██████████| 50/50 [00:03<00:00, 13.07it/s]\n",
      "Evaluating: 100%|██████████| 100/100 [00:02<00:00, 38.71it/s]\n",
      "Training:   4%|▍         | 2/50 [00:00<00:03, 12.21it/s]"
     ]
    },
    {
     "name": "stdout",
     "output_type": "stream",
     "text": [
      "200.0\n"
     ]
    },
    {
     "name": "stderr",
     "output_type": "stream",
     "text": [
      "Training: 100%|██████████| 50/50 [00:03<00:00, 13.34it/s]\n",
      "Evaluating: 100%|██████████| 100/100 [00:02<00:00, 37.03it/s]\n",
      "Training:   2%|▏         | 1/50 [00:00<00:06,  7.32it/s]"
     ]
    },
    {
     "name": "stdout",
     "output_type": "stream",
     "text": [
      "200.0\n"
     ]
    },
    {
     "name": "stderr",
     "output_type": "stream",
     "text": [
      "Training: 100%|██████████| 50/50 [00:03<00:00, 13.04it/s]\n",
      "Evaluating: 100%|██████████| 100/100 [00:02<00:00, 38.11it/s]\n",
      "Training:   0%|          | 0/50 [00:00<?, ?it/s]"
     ]
    },
    {
     "name": "stdout",
     "output_type": "stream",
     "text": [
      "200.0\n"
     ]
    },
    {
     "name": "stderr",
     "output_type": "stream",
     "text": [
      "Training: 100%|██████████| 50/50 [00:03<00:00, 12.61it/s]\n",
      "Evaluating: 100%|██████████| 100/100 [00:03<00:00, 37.95it/s]\n",
      "Training:   4%|▍         | 2/50 [00:00<00:03, 12.48it/s]"
     ]
    },
    {
     "name": "stdout",
     "output_type": "stream",
     "text": [
      "200.0\n"
     ]
    },
    {
     "name": "stderr",
     "output_type": "stream",
     "text": [
      "Training: 100%|██████████| 50/50 [00:03<00:00, 13.24it/s]\n",
      "Evaluating: 100%|██████████| 100/100 [00:02<00:00, 38.43it/s]\n",
      "Training:   2%|▏         | 1/50 [00:00<00:05,  9.61it/s]"
     ]
    },
    {
     "name": "stdout",
     "output_type": "stream",
     "text": [
      "200.0\n"
     ]
    },
    {
     "name": "stderr",
     "output_type": "stream",
     "text": [
      "Training: 100%|██████████| 50/50 [00:04<00:00, 10.34it/s]\n",
      "Evaluating: 100%|██████████| 100/100 [00:02<00:00, 34.60it/s]\n",
      "Training:   2%|▏         | 1/50 [00:00<00:05,  9.10it/s]"
     ]
    },
    {
     "name": "stdout",
     "output_type": "stream",
     "text": [
      "200.0\n"
     ]
    },
    {
     "name": "stderr",
     "output_type": "stream",
     "text": [
      "Training: 100%|██████████| 50/50 [00:03<00:00, 13.49it/s]\n",
      "Evaluating: 100%|██████████| 100/100 [00:02<00:00, 37.32it/s]\n",
      "Training:   2%|▏         | 1/50 [00:00<00:07,  6.53it/s]"
     ]
    },
    {
     "name": "stdout",
     "output_type": "stream",
     "text": [
      "200.0\n"
     ]
    },
    {
     "name": "stderr",
     "output_type": "stream",
     "text": [
      "Training: 100%|██████████| 50/50 [00:03<00:00, 13.71it/s]\n",
      "Evaluating: 100%|██████████| 100/100 [00:02<00:00, 38.79it/s]\n",
      "Training:   4%|▍         | 2/50 [00:00<00:03, 12.77it/s]"
     ]
    },
    {
     "name": "stdout",
     "output_type": "stream",
     "text": [
      "200.0\n"
     ]
    },
    {
     "name": "stderr",
     "output_type": "stream",
     "text": [
      "Training: 100%|██████████| 50/50 [00:03<00:00, 13.80it/s]\n",
      "Evaluating: 100%|██████████| 100/100 [00:02<00:00, 37.75it/s]\n",
      "Training:   4%|▍         | 2/50 [00:00<00:04, 11.40it/s]"
     ]
    },
    {
     "name": "stdout",
     "output_type": "stream",
     "text": [
      "200.0\n"
     ]
    },
    {
     "name": "stderr",
     "output_type": "stream",
     "text": [
      "Training: 100%|██████████| 50/50 [00:03<00:00, 13.15it/s]\n",
      "Evaluating: 100%|██████████| 100/100 [00:02<00:00, 34.95it/s]\n",
      "Training:   2%|▏         | 1/50 [00:00<00:04,  9.89it/s]"
     ]
    },
    {
     "name": "stdout",
     "output_type": "stream",
     "text": [
      "200.0\n"
     ]
    },
    {
     "name": "stderr",
     "output_type": "stream",
     "text": [
      "Training: 100%|██████████| 50/50 [00:03<00:00, 13.52it/s]\n",
      "Evaluating: 100%|██████████| 100/100 [00:02<00:00, 31.48it/s]\n",
      "Training:   2%|▏         | 1/50 [00:00<00:05,  8.50it/s]"
     ]
    },
    {
     "name": "stdout",
     "output_type": "stream",
     "text": [
      "200.0\n"
     ]
    },
    {
     "name": "stderr",
     "output_type": "stream",
     "text": [
      "Training: 100%|██████████| 50/50 [00:04<00:00, 10.40it/s]\n",
      "Evaluating: 100%|██████████| 100/100 [00:02<00:00, 36.58it/s]\n",
      "Training:   4%|▍         | 2/50 [00:00<00:03, 12.71it/s]"
     ]
    },
    {
     "name": "stdout",
     "output_type": "stream",
     "text": [
      "200.0\n"
     ]
    },
    {
     "name": "stderr",
     "output_type": "stream",
     "text": [
      "Training: 100%|██████████| 50/50 [00:03<00:00, 13.38it/s]\n",
      "Evaluating: 100%|██████████| 100/100 [00:02<00:00, 38.16it/s]\n",
      "Training:   4%|▍         | 2/50 [00:00<00:03, 12.30it/s]"
     ]
    },
    {
     "name": "stdout",
     "output_type": "stream",
     "text": [
      "200.0\n"
     ]
    },
    {
     "name": "stderr",
     "output_type": "stream",
     "text": [
      "Training: 100%|██████████| 50/50 [00:03<00:00, 15.48it/s]\n",
      "Evaluating: 100%|██████████| 100/100 [00:00<00:00, 366.18it/s]\n",
      "Training:   4%|▍         | 2/50 [00:00<00:02, 18.82it/s]"
     ]
    },
    {
     "name": "stdout",
     "output_type": "stream",
     "text": [
      "17.61\n"
     ]
    },
    {
     "name": "stderr",
     "output_type": "stream",
     "text": [
      "Training: 100%|██████████| 50/50 [00:02<00:00, 14.95it/s]\n",
      "Evaluating: 100%|██████████| 100/100 [00:02<00:00, 49.33it/s]\n",
      "Training:   0%|          | 0/50 [00:00<?, ?it/s]"
     ]
    },
    {
     "name": "stdout",
     "output_type": "stream",
     "text": [
      "154.77\n"
     ]
    },
    {
     "name": "stderr",
     "output_type": "stream",
     "text": [
      "Training: 100%|██████████| 50/50 [00:02<00:00, 22.96it/s]\n",
      "Evaluating: 100%|██████████| 100/100 [00:02<00:00, 38.44it/s]\n",
      "Training:   4%|▍         | 2/50 [00:00<00:03, 12.33it/s]"
     ]
    },
    {
     "name": "stdout",
     "output_type": "stream",
     "text": [
      "200.0\n"
     ]
    },
    {
     "name": "stderr",
     "output_type": "stream",
     "text": [
      "Training: 100%|██████████| 50/50 [00:03<00:00, 15.14it/s]\n",
      "Evaluating: 100%|██████████| 100/100 [00:02<00:00, 38.41it/s]\n",
      "Training:   2%|▏         | 1/50 [00:00<00:07,  6.45it/s]"
     ]
    },
    {
     "name": "stdout",
     "output_type": "stream",
     "text": [
      "200.0\n"
     ]
    },
    {
     "name": "stderr",
     "output_type": "stream",
     "text": [
      "Training: 100%|██████████| 50/50 [00:03<00:00, 13.21it/s]\n",
      "Evaluating: 100%|██████████| 100/100 [00:02<00:00, 38.11it/s]\n",
      "Training:   2%|▏         | 1/50 [00:00<00:06,  7.33it/s]"
     ]
    },
    {
     "name": "stdout",
     "output_type": "stream",
     "text": [
      "200.0\n"
     ]
    },
    {
     "name": "stderr",
     "output_type": "stream",
     "text": [
      "Training: 100%|██████████| 50/50 [00:03<00:00, 13.28it/s]\n",
      "Evaluating: 100%|██████████| 100/100 [00:02<00:00, 36.51it/s]\n",
      "Training:   4%|▍         | 2/50 [00:00<00:03, 12.46it/s]"
     ]
    },
    {
     "name": "stdout",
     "output_type": "stream",
     "text": [
      "200.0\n"
     ]
    },
    {
     "name": "stderr",
     "output_type": "stream",
     "text": [
      "Training: 100%|██████████| 50/50 [00:03<00:00, 13.55it/s]\n",
      "Evaluating: 100%|██████████| 100/100 [00:02<00:00, 38.48it/s]\n",
      "Training:   2%|▏         | 1/50 [00:00<00:07,  6.33it/s]"
     ]
    },
    {
     "name": "stdout",
     "output_type": "stream",
     "text": [
      "200.0\n"
     ]
    },
    {
     "name": "stderr",
     "output_type": "stream",
     "text": [
      "Training: 100%|██████████| 50/50 [00:03<00:00, 12.97it/s]\n",
      "Evaluating: 100%|██████████| 100/100 [00:02<00:00, 38.21it/s]\n",
      "Training:   4%|▍         | 2/50 [00:00<00:03, 13.60it/s]"
     ]
    },
    {
     "name": "stdout",
     "output_type": "stream",
     "text": [
      "200.0\n"
     ]
    },
    {
     "name": "stderr",
     "output_type": "stream",
     "text": [
      "Training: 100%|██████████| 50/50 [00:03<00:00, 13.30it/s]\n",
      "Evaluating: 100%|██████████| 100/100 [00:02<00:00, 38.39it/s]\n",
      "Training:   2%|▏         | 1/50 [00:00<00:06,  8.12it/s]"
     ]
    },
    {
     "name": "stdout",
     "output_type": "stream",
     "text": [
      "200.0\n"
     ]
    },
    {
     "name": "stderr",
     "output_type": "stream",
     "text": [
      "Training: 100%|██████████| 50/50 [00:03<00:00, 13.04it/s]\n",
      "Evaluating: 100%|██████████| 100/100 [00:02<00:00, 35.82it/s]\n",
      "Training:   2%|▏         | 1/50 [00:00<00:06,  7.40it/s]"
     ]
    },
    {
     "name": "stdout",
     "output_type": "stream",
     "text": [
      "200.0\n"
     ]
    },
    {
     "name": "stderr",
     "output_type": "stream",
     "text": [
      "Training: 100%|██████████| 50/50 [00:04<00:00, 10.31it/s]\n",
      "Evaluating: 100%|██████████| 100/100 [00:02<00:00, 34.37it/s]\n",
      "Training:   2%|▏         | 1/50 [00:00<00:06,  7.85it/s]"
     ]
    },
    {
     "name": "stdout",
     "output_type": "stream",
     "text": [
      "200.0\n"
     ]
    },
    {
     "name": "stderr",
     "output_type": "stream",
     "text": [
      "Training: 100%|██████████| 50/50 [00:04<00:00, 10.64it/s]\n",
      "Evaluating: 100%|██████████| 100/100 [00:01<00:00, 64.91it/s]\n",
      "Training:  18%|█▊        | 9/50 [00:00<00:00, 81.68it/s]"
     ]
    },
    {
     "name": "stdout",
     "output_type": "stream",
     "text": [
      "114.66\n"
     ]
    },
    {
     "name": "stderr",
     "output_type": "stream",
     "text": [
      "Training: 100%|██████████| 50/50 [00:01<00:00, 22.28it/s]\n",
      "Evaluating: 100%|██████████| 100/100 [00:01<00:00, 66.18it/s]\n",
      "Training:   2%|▏         | 1/50 [00:00<00:07,  6.20it/s]"
     ]
    },
    {
     "name": "stdout",
     "output_type": "stream",
     "text": [
      "111.4\n"
     ]
    },
    {
     "name": "stderr",
     "output_type": "stream",
     "text": [
      "Training: 100%|██████████| 50/50 [00:03<00:00, 16.63it/s]\n",
      "Evaluating: 100%|██████████| 100/100 [00:01<00:00, 52.51it/s]\n",
      "Training:   4%|▍         | 2/50 [00:00<00:03, 14.81it/s]"
     ]
    },
    {
     "name": "stdout",
     "output_type": "stream",
     "text": [
      "140.71\n"
     ]
    },
    {
     "name": "stderr",
     "output_type": "stream",
     "text": [
      "Training: 100%|██████████| 50/50 [00:03<00:00, 14.99it/s]\n",
      "Evaluating: 100%|██████████| 100/100 [00:02<00:00, 36.69it/s]\n",
      "Training:   4%|▍         | 2/50 [00:00<00:04, 11.61it/s]"
     ]
    },
    {
     "name": "stdout",
     "output_type": "stream",
     "text": [
      "200.0\n"
     ]
    },
    {
     "name": "stderr",
     "output_type": "stream",
     "text": [
      "Training: 100%|██████████| 50/50 [00:03<00:00, 13.66it/s]\n",
      "Evaluating: 100%|██████████| 100/100 [00:02<00:00, 37.41it/s]\n",
      "Training:   0%|          | 0/50 [00:00<?, ?it/s]"
     ]
    },
    {
     "name": "stdout",
     "output_type": "stream",
     "text": [
      "200.0\n"
     ]
    },
    {
     "name": "stderr",
     "output_type": "stream",
     "text": [
      "Training: 100%|██████████| 50/50 [00:03<00:00, 12.83it/s]\n",
      "Evaluating: 100%|██████████| 100/100 [00:02<00:00, 36.36it/s]\n",
      "Training:   4%|▍         | 2/50 [00:00<00:04, 10.69it/s]"
     ]
    },
    {
     "name": "stdout",
     "output_type": "stream",
     "text": [
      "200.0\n"
     ]
    },
    {
     "name": "stderr",
     "output_type": "stream",
     "text": [
      "Training: 100%|██████████| 50/50 [00:04<00:00, 10.69it/s]\n",
      "Evaluating: 100%|██████████| 100/100 [00:02<00:00, 35.11it/s]\n",
      "Training:   0%|          | 0/50 [00:00<?, ?it/s]"
     ]
    },
    {
     "name": "stdout",
     "output_type": "stream",
     "text": [
      "200.0\n"
     ]
    },
    {
     "name": "stderr",
     "output_type": "stream",
     "text": [
      "Training: 100%|██████████| 50/50 [00:03<00:00, 13.03it/s]\n",
      "Evaluating: 100%|██████████| 100/100 [00:02<00:00, 37.99it/s]\n",
      "Training:   2%|▏         | 1/50 [00:00<00:08,  6.01it/s]"
     ]
    },
    {
     "name": "stdout",
     "output_type": "stream",
     "text": [
      "200.0\n"
     ]
    },
    {
     "name": "stderr",
     "output_type": "stream",
     "text": [
      "Training: 100%|██████████| 50/50 [00:03<00:00, 13.19it/s]\n",
      "Evaluating: 100%|██████████| 100/100 [00:02<00:00, 33.61it/s]\n",
      "Training:   0%|          | 0/50 [00:00<?, ?it/s]"
     ]
    },
    {
     "name": "stdout",
     "output_type": "stream",
     "text": [
      "200.0\n"
     ]
    },
    {
     "name": "stderr",
     "output_type": "stream",
     "text": [
      "Training: 100%|██████████| 50/50 [00:03<00:00, 12.77it/s]\n",
      "Evaluating: 100%|██████████| 100/100 [00:02<00:00, 30.92it/s]\n",
      "Training:   2%|▏         | 1/50 [00:00<00:04,  9.88it/s]"
     ]
    },
    {
     "name": "stdout",
     "output_type": "stream",
     "text": [
      "200.0\n"
     ]
    },
    {
     "name": "stderr",
     "output_type": "stream",
     "text": [
      "Training: 100%|██████████| 50/50 [00:03<00:00, 13.17it/s]\n",
      "Evaluating: 100%|██████████| 100/100 [00:02<00:00, 37.48it/s]\n",
      "Training:   4%|▍         | 2/50 [00:00<00:04, 12.00it/s]"
     ]
    },
    {
     "name": "stdout",
     "output_type": "stream",
     "text": [
      "200.0\n"
     ]
    },
    {
     "name": "stderr",
     "output_type": "stream",
     "text": [
      "Training: 100%|██████████| 50/50 [00:03<00:00, 13.96it/s]\n",
      "Evaluating: 100%|██████████| 100/100 [00:01<00:00, 93.02it/s]\n",
      "Training:   4%|▍         | 2/50 [00:00<00:03, 12.65it/s]"
     ]
    },
    {
     "name": "stdout",
     "output_type": "stream",
     "text": [
      "79.75\n"
     ]
    },
    {
     "name": "stderr",
     "output_type": "stream",
     "text": [
      "Training: 100%|██████████| 50/50 [00:02<00:00, 20.12it/s]\n",
      "Evaluating: 100%|██████████| 100/100 [00:01<00:00, 87.60it/s]\n",
      "Training:   4%|▍         | 2/50 [00:00<00:02, 18.31it/s]"
     ]
    },
    {
     "name": "stdout",
     "output_type": "stream",
     "text": [
      "79.92\n"
     ]
    },
    {
     "name": "stderr",
     "output_type": "stream",
     "text": [
      "Training: 100%|██████████| 50/50 [00:00<00:00, 115.67it/s]\n",
      "Evaluating: 100%|██████████| 100/100 [00:00<00:00, 447.97it/s]\n",
      "Training:   8%|▊         | 4/50 [00:00<00:01, 23.05it/s]"
     ]
    },
    {
     "name": "stdout",
     "output_type": "stream",
     "text": [
      "15.06\n"
     ]
    },
    {
     "name": "stderr",
     "output_type": "stream",
     "text": [
      "Training: 100%|██████████| 50/50 [00:03<00:00, 13.51it/s]\n",
      "Evaluating: 100%|██████████| 100/100 [00:02<00:00, 35.01it/s]\n",
      "Training:   4%|▍         | 2/50 [00:00<00:03, 12.79it/s]"
     ]
    },
    {
     "name": "stdout",
     "output_type": "stream",
     "text": [
      "200.0\n"
     ]
    },
    {
     "name": "stderr",
     "output_type": "stream",
     "text": [
      "Training: 100%|██████████| 50/50 [00:03<00:00, 13.30it/s]\n",
      "Evaluating: 100%|██████████| 100/100 [00:03<00:00, 32.88it/s]\n",
      "Training:   4%|▍         | 2/50 [00:00<00:03, 13.49it/s]"
     ]
    },
    {
     "name": "stdout",
     "output_type": "stream",
     "text": [
      "200.0\n"
     ]
    },
    {
     "name": "stderr",
     "output_type": "stream",
     "text": [
      "Training: 100%|██████████| 50/50 [00:03<00:00, 13.28it/s]\n",
      "Evaluating: 100%|██████████| 100/100 [00:02<00:00, 38.46it/s]\n",
      "Training:   4%|▍         | 2/50 [00:00<00:03, 13.77it/s]"
     ]
    },
    {
     "name": "stdout",
     "output_type": "stream",
     "text": [
      "200.0\n"
     ]
    },
    {
     "name": "stderr",
     "output_type": "stream",
     "text": [
      "Training: 100%|██████████| 50/50 [00:03<00:00, 13.37it/s]\n",
      "Evaluating: 100%|██████████| 100/100 [00:02<00:00, 38.35it/s]\n",
      "Training:   4%|▍         | 2/50 [00:00<00:04, 11.81it/s]"
     ]
    },
    {
     "name": "stdout",
     "output_type": "stream",
     "text": [
      "200.0\n"
     ]
    },
    {
     "name": "stderr",
     "output_type": "stream",
     "text": [
      "Training: 100%|██████████| 50/50 [00:04<00:00, 11.20it/s]\n",
      "Evaluating: 100%|██████████| 100/100 [00:03<00:00, 31.76it/s]\n",
      "Training:   4%|▍         | 2/50 [00:00<00:03, 12.04it/s]"
     ]
    },
    {
     "name": "stdout",
     "output_type": "stream",
     "text": [
      "200.0\n"
     ]
    },
    {
     "name": "stderr",
     "output_type": "stream",
     "text": [
      "Training: 100%|██████████| 50/50 [00:03<00:00, 13.22it/s]\n",
      "Evaluating: 100%|██████████| 100/100 [00:02<00:00, 38.72it/s]\n",
      "Training:   2%|▏         | 1/50 [00:00<00:07,  6.78it/s]"
     ]
    },
    {
     "name": "stdout",
     "output_type": "stream",
     "text": [
      "200.0\n"
     ]
    },
    {
     "name": "stderr",
     "output_type": "stream",
     "text": [
      "Training: 100%|██████████| 50/50 [00:03<00:00, 13.01it/s]\n",
      "Evaluating: 100%|██████████| 100/100 [00:02<00:00, 37.58it/s]\n",
      "Training:   2%|▏         | 1/50 [00:00<00:06,  8.09it/s]"
     ]
    },
    {
     "name": "stdout",
     "output_type": "stream",
     "text": [
      "200.0\n"
     ]
    },
    {
     "name": "stderr",
     "output_type": "stream",
     "text": [
      "Training: 100%|██████████| 50/50 [00:03<00:00, 13.09it/s]\n",
      "Evaluating: 100%|██████████| 100/100 [00:02<00:00, 38.63it/s]\n",
      "Training:   2%|▏         | 1/50 [00:00<00:06,  7.35it/s]"
     ]
    },
    {
     "name": "stdout",
     "output_type": "stream",
     "text": [
      "200.0\n"
     ]
    },
    {
     "name": "stderr",
     "output_type": "stream",
     "text": [
      "Training: 100%|██████████| 50/50 [00:03<00:00, 13.06it/s]\n",
      "Evaluating: 100%|██████████| 100/100 [00:02<00:00, 38.03it/s]\n",
      "Training:   0%|          | 0/50 [00:00<?, ?it/s]"
     ]
    },
    {
     "name": "stdout",
     "output_type": "stream",
     "text": [
      "200.0\n"
     ]
    },
    {
     "name": "stderr",
     "output_type": "stream",
     "text": [
      "Training: 100%|██████████| 50/50 [00:03<00:00, 13.00it/s]\n",
      "Evaluating: 100%|██████████| 100/100 [00:02<00:00, 38.68it/s]\n",
      "Training:   4%|▍         | 2/50 [00:00<00:03, 12.79it/s]"
     ]
    },
    {
     "name": "stdout",
     "output_type": "stream",
     "text": [
      "200.0\n"
     ]
    },
    {
     "name": "stderr",
     "output_type": "stream",
     "text": [
      "Training: 100%|██████████| 50/50 [00:03<00:00, 13.62it/s]\n",
      "Evaluating: 100%|██████████| 100/100 [00:02<00:00, 38.69it/s]\n",
      "Training:   4%|▍         | 2/50 [00:00<00:03, 13.02it/s]"
     ]
    },
    {
     "name": "stdout",
     "output_type": "stream",
     "text": [
      "200.0\n"
     ]
    },
    {
     "name": "stderr",
     "output_type": "stream",
     "text": [
      "Training: 100%|██████████| 50/50 [00:03<00:00, 13.51it/s]\n",
      "Evaluating: 100%|██████████| 100/100 [00:02<00:00, 38.57it/s]\n",
      "Training:   2%|▏         | 1/50 [00:00<00:05,  8.71it/s]"
     ]
    },
    {
     "name": "stdout",
     "output_type": "stream",
     "text": [
      "200.0\n"
     ]
    },
    {
     "name": "stderr",
     "output_type": "stream",
     "text": [
      "Training: 100%|██████████| 50/50 [00:03<00:00, 13.34it/s]\n",
      "Evaluating: 100%|██████████| 100/100 [00:02<00:00, 37.17it/s]\n",
      "Training:   0%|          | 0/50 [00:00<?, ?it/s]"
     ]
    },
    {
     "name": "stdout",
     "output_type": "stream",
     "text": [
      "200.0\n"
     ]
    },
    {
     "name": "stderr",
     "output_type": "stream",
     "text": [
      "Training: 100%|██████████| 50/50 [00:03<00:00, 12.76it/s]\n",
      "Evaluating: 100%|██████████| 100/100 [00:02<00:00, 38.73it/s]\n",
      "Training:   4%|▍         | 2/50 [00:00<00:03, 13.41it/s]"
     ]
    },
    {
     "name": "stdout",
     "output_type": "stream",
     "text": [
      "200.0\n"
     ]
    },
    {
     "name": "stderr",
     "output_type": "stream",
     "text": [
      "Training: 100%|██████████| 50/50 [00:03<00:00, 13.74it/s]\n",
      "Evaluating: 100%|██████████| 100/100 [00:02<00:00, 38.80it/s]\n",
      "Training:   0%|          | 0/50 [00:00<?, ?it/s]"
     ]
    },
    {
     "name": "stdout",
     "output_type": "stream",
     "text": [
      "200.0\n"
     ]
    },
    {
     "name": "stderr",
     "output_type": "stream",
     "text": [
      "Training: 100%|██████████| 50/50 [00:03<00:00, 12.86it/s]\n",
      "Evaluating: 100%|██████████| 100/100 [00:02<00:00, 40.05it/s]\n",
      "Training:   4%|▍         | 2/50 [00:00<00:03, 12.28it/s]"
     ]
    },
    {
     "name": "stdout",
     "output_type": "stream",
     "text": [
      "189.2\n"
     ]
    },
    {
     "name": "stderr",
     "output_type": "stream",
     "text": [
      "Training: 100%|██████████| 50/50 [00:03<00:00, 13.72it/s]\n",
      "Evaluating: 100%|██████████| 100/100 [00:02<00:00, 38.36it/s]\n",
      "Training:   4%|▍         | 2/50 [00:00<00:03, 12.56it/s]"
     ]
    },
    {
     "name": "stdout",
     "output_type": "stream",
     "text": [
      "200.0\n"
     ]
    },
    {
     "name": "stderr",
     "output_type": "stream",
     "text": [
      "Training: 100%|██████████| 50/50 [00:03<00:00, 13.23it/s]\n",
      "Evaluating: 100%|██████████| 100/100 [00:02<00:00, 38.43it/s]\n",
      "Training:   4%|▍         | 2/50 [00:00<00:03, 12.20it/s]"
     ]
    },
    {
     "name": "stdout",
     "output_type": "stream",
     "text": [
      "200.0\n"
     ]
    },
    {
     "name": "stderr",
     "output_type": "stream",
     "text": [
      "Training: 100%|██████████| 50/50 [00:03<00:00, 13.22it/s]\n",
      "Evaluating: 100%|██████████| 100/100 [00:03<00:00, 29.90it/s]\n",
      "Training:   0%|          | 0/50 [00:00<?, ?it/s]"
     ]
    },
    {
     "name": "stdout",
     "output_type": "stream",
     "text": [
      "200.0\n"
     ]
    },
    {
     "name": "stderr",
     "output_type": "stream",
     "text": [
      "Training: 100%|██████████| 50/50 [00:03<00:00, 12.88it/s]\n",
      "Evaluating: 100%|██████████| 100/100 [00:02<00:00, 38.06it/s]\n",
      "Training:   0%|          | 0/50 [00:00<?, ?it/s]"
     ]
    },
    {
     "name": "stdout",
     "output_type": "stream",
     "text": [
      "200.0\n"
     ]
    },
    {
     "name": "stderr",
     "output_type": "stream",
     "text": [
      "Training: 100%|██████████| 50/50 [00:03<00:00, 14.31it/s]\n",
      "Evaluating: 100%|██████████| 100/100 [00:02<00:00, 38.66it/s]\n",
      "Training:   2%|▏         | 1/50 [00:00<00:06,  7.11it/s]"
     ]
    },
    {
     "name": "stdout",
     "output_type": "stream",
     "text": [
      "200.0\n"
     ]
    },
    {
     "name": "stderr",
     "output_type": "stream",
     "text": [
      "Training: 100%|██████████| 50/50 [00:03<00:00, 14.04it/s]\n",
      "Evaluating: 100%|██████████| 100/100 [00:02<00:00, 37.76it/s]\n",
      "Training:   2%|▏         | 1/50 [00:00<00:05,  8.17it/s]"
     ]
    },
    {
     "name": "stdout",
     "output_type": "stream",
     "text": [
      "199.83\n"
     ]
    },
    {
     "name": "stderr",
     "output_type": "stream",
     "text": [
      "Training: 100%|██████████| 50/50 [00:03<00:00, 16.00it/s]\n",
      "Evaluating: 100%|██████████| 100/100 [00:02<00:00, 38.48it/s]\n",
      "Training:   4%|▍         | 2/50 [00:00<00:03, 13.54it/s]"
     ]
    },
    {
     "name": "stdout",
     "output_type": "stream",
     "text": [
      "200.0\n"
     ]
    },
    {
     "name": "stderr",
     "output_type": "stream",
     "text": [
      "Training: 100%|██████████| 50/50 [00:03<00:00, 13.48it/s]\n",
      "Evaluating: 100%|██████████| 100/100 [00:02<00:00, 38.44it/s]\n",
      "Training:   4%|▍         | 2/50 [00:00<00:04, 11.54it/s]"
     ]
    },
    {
     "name": "stdout",
     "output_type": "stream",
     "text": [
      "200.0\n"
     ]
    },
    {
     "name": "stderr",
     "output_type": "stream",
     "text": [
      "Training: 100%|██████████| 50/50 [00:03<00:00, 13.24it/s]\n",
      "Evaluating: 100%|██████████| 100/100 [00:02<00:00, 38.34it/s]\n",
      "Training:   4%|▍         | 2/50 [00:00<00:04, 11.64it/s]"
     ]
    },
    {
     "name": "stdout",
     "output_type": "stream",
     "text": [
      "200.0\n"
     ]
    },
    {
     "name": "stderr",
     "output_type": "stream",
     "text": [
      "Training: 100%|██████████| 50/50 [00:03<00:00, 13.48it/s]\n",
      "Evaluating: 100%|██████████| 100/100 [00:02<00:00, 38.49it/s]\n",
      "Training:   4%|▍         | 2/50 [00:00<00:04, 11.82it/s]"
     ]
    },
    {
     "name": "stdout",
     "output_type": "stream",
     "text": [
      "200.0\n"
     ]
    },
    {
     "name": "stderr",
     "output_type": "stream",
     "text": [
      "Training: 100%|██████████| 50/50 [00:03<00:00, 13.65it/s]\n",
      "Evaluating: 100%|██████████| 100/100 [00:02<00:00, 36.73it/s]\n",
      "Training:   4%|▍         | 2/50 [00:00<00:03, 15.61it/s]"
     ]
    },
    {
     "name": "stdout",
     "output_type": "stream",
     "text": [
      "198.52\n"
     ]
    },
    {
     "name": "stderr",
     "output_type": "stream",
     "text": [
      "Training: 100%|██████████| 50/50 [00:03<00:00, 13.11it/s]\n",
      "Evaluating: 100%|██████████| 100/100 [00:02<00:00, 38.73it/s]\n",
      "Training:   2%|▏         | 1/50 [00:00<00:05,  8.21it/s]"
     ]
    },
    {
     "name": "stdout",
     "output_type": "stream",
     "text": [
      "200.0\n"
     ]
    },
    {
     "name": "stderr",
     "output_type": "stream",
     "text": [
      "Training: 100%|██████████| 50/50 [00:03<00:00, 13.91it/s]\n",
      "Evaluating: 100%|██████████| 100/100 [00:02<00:00, 38.17it/s]\n",
      "Training:   2%|▏         | 1/50 [00:00<00:06,  8.00it/s]"
     ]
    },
    {
     "name": "stdout",
     "output_type": "stream",
     "text": [
      "200.0\n"
     ]
    },
    {
     "name": "stderr",
     "output_type": "stream",
     "text": [
      "Training: 100%|██████████| 50/50 [00:04<00:00, 10.31it/s]\n",
      "Evaluating: 100%|██████████| 100/100 [00:02<00:00, 38.20it/s]\n",
      "Training:   2%|▏         | 1/50 [00:00<00:05,  8.39it/s]"
     ]
    },
    {
     "name": "stdout",
     "output_type": "stream",
     "text": [
      "200.0\n"
     ]
    },
    {
     "name": "stderr",
     "output_type": "stream",
     "text": [
      "Training: 100%|██████████| 50/50 [00:03<00:00, 13.30it/s]\n",
      "Evaluating: 100%|██████████| 100/100 [00:02<00:00, 37.13it/s]\n",
      "Training:   4%|▍         | 2/50 [00:00<00:04, 11.88it/s]"
     ]
    },
    {
     "name": "stdout",
     "output_type": "stream",
     "text": [
      "200.0\n"
     ]
    },
    {
     "name": "stderr",
     "output_type": "stream",
     "text": [
      "Training: 100%|██████████| 50/50 [00:03<00:00, 13.10it/s]\n",
      "Evaluating: 100%|██████████| 100/100 [00:02<00:00, 33.31it/s]\n",
      "Training:   4%|▍         | 2/50 [00:00<00:03, 12.34it/s]"
     ]
    },
    {
     "name": "stdout",
     "output_type": "stream",
     "text": [
      "200.0\n"
     ]
    },
    {
     "name": "stderr",
     "output_type": "stream",
     "text": [
      "Training: 100%|██████████| 50/50 [00:03<00:00, 13.28it/s]\n",
      "Evaluating: 100%|██████████| 100/100 [00:02<00:00, 36.02it/s]\n",
      "Training:   4%|▍         | 2/50 [00:00<00:04, 11.86it/s]"
     ]
    },
    {
     "name": "stdout",
     "output_type": "stream",
     "text": [
      "200.0\n"
     ]
    },
    {
     "name": "stderr",
     "output_type": "stream",
     "text": [
      "Training: 100%|██████████| 50/50 [00:03<00:00, 13.35it/s]\n",
      "Evaluating: 100%|██████████| 100/100 [00:02<00:00, 35.99it/s]\n",
      "Training:   2%|▏         | 1/50 [00:00<00:05,  9.77it/s]"
     ]
    },
    {
     "name": "stdout",
     "output_type": "stream",
     "text": [
      "200.0\n"
     ]
    },
    {
     "name": "stderr",
     "output_type": "stream",
     "text": [
      "Training: 100%|██████████| 50/50 [00:03<00:00, 13.14it/s]\n",
      "Evaluating: 100%|██████████| 100/100 [00:02<00:00, 33.57it/s]\n",
      "Training:   2%|▏         | 1/50 [00:00<00:05,  8.81it/s]"
     ]
    },
    {
     "name": "stdout",
     "output_type": "stream",
     "text": [
      "200.0\n"
     ]
    },
    {
     "name": "stderr",
     "output_type": "stream",
     "text": [
      "Training: 100%|██████████| 50/50 [00:02<00:00, 17.44it/s]\n",
      "Evaluating: 100%|██████████| 100/100 [00:02<00:00, 36.85it/s]\n",
      "Training:   4%|▍         | 2/50 [00:00<00:04, 11.97it/s]"
     ]
    },
    {
     "name": "stdout",
     "output_type": "stream",
     "text": [
      "199.94\n"
     ]
    },
    {
     "name": "stderr",
     "output_type": "stream",
     "text": [
      "Training: 100%|██████████| 50/50 [00:04<00:00, 11.20it/s]\n",
      "Evaluating: 100%|██████████| 100/100 [00:02<00:00, 38.79it/s]\n",
      "Training:   4%|▍         | 2/50 [00:00<00:04, 11.92it/s]"
     ]
    },
    {
     "name": "stdout",
     "output_type": "stream",
     "text": [
      "192.13\n"
     ]
    },
    {
     "name": "stderr",
     "output_type": "stream",
     "text": [
      "Training: 100%|██████████| 50/50 [00:03<00:00, 13.39it/s]\n",
      "Evaluating: 100%|██████████| 100/100 [00:02<00:00, 38.63it/s]"
     ]
    },
    {
     "name": "stdout",
     "output_type": "stream",
     "text": [
      "199.93\n",
      "\n",
      "Learning Performance:\n",
      "\n"
     ]
    },
    {
     "name": "stderr",
     "output_type": "stream",
     "text": [
      "\n"
     ]
    },
    {
     "data": {
      "text/plain": [
       "<Figure size 432x288 with 0 Axes>"
      ]
     },
     "metadata": {},
     "output_type": "display_data"
    },
    {
     "data": {
      "image/png": "[encoded data removed]",
      "text/plain": [
       "<Figure size 432x288 with 1 Axes>"
      ]
     },
     "metadata": {},
     "output_type": "display_data"
    },
    {
     "name": "stdout",
     "output_type": "stream",
     "text": [
      "902.7440094947815\n"
     ]
    }
   ],
   "source": [
    "import time\n",
    "start_time = time.time()\n",
    "training_episodes, test_interval = 10000, 50\n",
    "agent = DQN_agent(env_CartPole, hyperparams_CartPole)\n",
    "result = agent.learn_and_evaluate(training_episodes, test_interval)\n",
    "plot_result(result, test_interval, [\"batch_update without target_model\"])\n",
    "print(time.time() - start_time)"
   ]
  },
  {
   "cell_type": "markdown",
   "metadata": {},
   "source": [
    "***\n",
    "# Part 2: Distributed DQN\n",
    "***\n",
    "\n",
    "Here you will implement a distributed version of the above DQN approach. The distribution approach can be the same as that used for the table-based distribution Q-learning algorithm from homework 3."
   ]
  },
  {
   "cell_type": "markdown",
   "metadata": {},
   "source": [
    "## init Ray"
   ]
  },
  {
   "cell_type": "code",
   "execution_count": null,
   "metadata": {},
   "outputs": [],
   "source": [
    "ray.shutdown()\n",
    "ray.init(include_webui=False, ignore_reinit_error=True, redis_max_memory=500000000, object_store_memory=5000000000)"
   ]
  },
  {
   "cell_type": "markdown",
   "metadata": {},
   "source": [
    "## Distributed DQN agent\n",
    "The idea is to speedup learning by creating actors to collect data and a model_server to update the neural network model.\n",
    "- Collector: There is a simulator inside each collector. Their job is to collect exprience from the simulator, and send them to the memory server. They follow the explore_or_exploit policy, getting greedy action from model server. Also, call update function of model server to update the model.  \n",
    "- Evaluator: There is a simulator inside the evaluator. It is called by the the Model Server, taking eval_model from it, and test its performance.\n",
    "- Model Server: Stores the evalation and target networks. It Takes experiences from Memory Server and updates the Q-network, also replacing target Q-network periodically. It also interfaces to the evaluator periodically. \n",
    "- Memory Server: It is used to store/sample experience relays.\n",
    "\n",
    "An image of this architecture is below. \n",
    "\n",
    "For this part, you should use our custom_cartpole as your enviroment. This version of cartpole is slower, which allows for the benefits of distributed experience collection to be observed. In particular, the time to generate an experience tuple needs to be non-trivial compared to the time needed to do a neural network model update. \n",
    "\n",
    "<span style=\"color:green\">It is better to run the distributed DQN agent in exclusive node, not in Jupyter notebook</span>\n",
    "```\n",
    "Store all of your distrited DQN code into a python file.\n",
    "ssh colfax (get access to the Devcloud on terminal)\n",
    "qsub -I -lselect=1\n",
    "python3 distributed_dqn.py\n",
    "```\n",
    "\n",
    "<img src=\"distributed DQN.png\">\n",
    "\n",
    "For this part of the homework you need to submit your code for distributed DQN and run experiments that vary the number of workers involved. Produce some learning curves and timing results and discuss your observations. "
   ]
  },
  {
   "cell_type": "code",
   "execution_count": null,
   "metadata": {},
   "outputs": [],
   "source": [
    "from memory_remote import ReplayBuffer_remote\n",
    "from dqn_model import _DQNModel\n",
    "import torch\n",
    "from custom_cartpole import CartPoleEnv"
   ]
  },
  {
   "cell_type": "code",
   "execution_count": null,
   "metadata": {},
   "outputs": [],
   "source": [
    "# Set the Env name and action space for CartPole\n",
    "ENV_NAME = 'CartPole_distributed'\n",
    "\n",
    "# Set result saveing floder\n",
    "result_floder = ENV_NAME + \"_distributed\"\n",
    "result_file = ENV_NAME + \"/results.txt\"\n",
    "if not os.path.isdir(result_floder):\n",
    "    os.mkdir(result_floder)\n",
    "torch.set_num_threads(12)"
   ]
  }
 ],
 "metadata": {
  "kernelspec": {
   "display_name": "Python 3 (Intel, 2019 update 2)",
   "language": "python",
   "name": "c009-intel_distribution_of_python_3_2019u2"
  },
  "language_info": {
   "codemirror_mode": {
    "name": "ipython",
    "version": 3
   },
   "file_extension": ".py",
   "mimetype": "text/x-python",
   "name": "python",
   "nbconvert_exporter": "python",
   "pygments_lexer": "ipython3",
   "version": "3.6.8"
  }
 },
 "nbformat": 4,
 "nbformat_minor": 2
}
