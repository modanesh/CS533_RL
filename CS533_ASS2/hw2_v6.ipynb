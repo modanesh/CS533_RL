{
  "cells": [
    {
      "cell_type": "markdown",
      "source": "# Distributed Synchronous Value Iteration\n***\n\nThe goal of this assignment is to implement both single-core and distributed versions of syncronous value iteration (VI). In particuar, VI will be applied to Markov Decision Processes (MDPs) in order to compute policies that optimize expected infinite horizon discounted cummulative reward. \n\nThe relevant content about MDPs and VI are in the following course notes from CS533. \n\nhttps://oregonstate.instructure.com/courses/1719746/files/74716197/download?wrap\u003d1\nhttps://oregonstate.instructure.com/courses/1719746/files/74828408/download?wrap\u003d1\n\n\n### Synchronous Value Iteration Recap\n\nBelow is a review of the synchronous value iteration algorithm. The algorithm is iterative and each iteration produces a newly updated value function $V_{new}$ based on the value function from the previous iteration $V_{curr}$. This is done by applying the Bellman backup operator to $V_{curr}$ at each state. That is, \n\\begin{equation}\nV_{new}(s) \u003d \\max_{a\\in A} R(s,a) + \\beta \\sum_{s\u0027\\in S} T(s,a,s\u0027) V_{curr}(s\u0027)\n\\end{equation}\nwhere $\\beta \\in [0,1)$ is the discount factor, $R$ is the reward function, and $T$ is the transition function. \n\nThe algorithm also maintains the greedy policy $\\pi$ at each iteration, which is based on a one-step look ahead operator: \n\\begin{equation}\n\\pi_{curr}(s) \u003d \\arg\\max_{a\\in A} R(s,a) + \\beta \\sum_{s\u0027\\in S} T(s,a,s\u0027) V_{curr}(s\u0027)\n\\end{equation}\n\nAfter an update we define the Bellman error of that iteration as $\\max_s |V_{new}(s)-V_{curr}(s)|$. In the notes, it is shown that this error allows us to bound the difference between the value function of $\\pi_{curr}$ and the optimal value function $V^{*}$. Thus, a typical stopping condition for VI is to iterate until the Bellman error is below a specified threshold $\\epsilon$. Putting everything together, the overall algorithm is as follows:\n\n- Start with $V_{curr}(s) \u003d 0$ for all $s$\n- error \u003d $\\infty$\n- While error \u003e $\\epsilon$ \n    - For each state $s$ \n        - $V_{new}(s) \u003d \\max_{a\\in A} R(s,a) + \\beta \\sum_{s\u0027\\in S} T(s,a,s\u0027) V_{curr}(s\u0027)$\n        - $\\pi_{curr}(s) \u003d \\arg\\max_{a\\in A} R(s,a) + \\beta \\sum_{s\u0027\\in S} T(s,a,s\u0027) V_{curr}(s\u0027)$\n    - error \u003d $\\max_s |V_{new}(s)-V_{curr}(s)|$   ;; could do this incrementally      \n    - $V_{curr} \u003d V_{new}$\n\nThe reason we refer to this version of VI as synchronous is because it maintains both a current and new value function, where all values of the new value function are computed based on the fixed current value function. That is, each iteration updates all states based on the value function of the previous iteration. \n\nTo simplify this first assignment, we have decided to focus on Synchronous VI and to investigate how to best create a distributed implementation using the Ray framework. In particular, a distributed version of Synchronous VI should still produce a sequence of value functions and policies that are equivalent to those that would be produced by a single-core version, but ideally do so much faster. The remainder of this notebook guides you through some of the MDP mechanics and algorithm implementations. The grand finale of this first assignment is a competition where you will try to develop the fasted distributed implementation that you can. ",
      "metadata": {
        "pycharm": {
          "metadata": false
        }
      }
    },
    {
      "cell_type": "code",
      "execution_count": null,
      "outputs": [],
      "source": "# You will need to uncomment the following pip commands if the libraries need to be installed. \n# You may get some errors related to readchar, but they should not break the project.\n\n!pip2 install --user readchar\n!pip2 install --user gym\n!pip2 install ray",
      "metadata": {
        "pycharm": {
          "metadata": false,
          "name": "#%%\n"
        }
      }
    },
    {
      "cell_type": "code",
      "execution_count": null,
      "outputs": [],
      "source": "import ray\nimport time\nfrom copy import deepcopy\nimport matplotlib.pyplot as plt\nfrom random import randint, choice\n%matplotlib inline\nimport pickle",
      "metadata": {
        "pycharm": {
          "metadata": false,
          "name": "#%%\n"
        }
      }
    },
    {
      "cell_type": "markdown",
      "source": "***\n\n## FrozenLake\n\nWe will use the FrozenLake environment as the MDP environment for this experiment. This is a type of gridworld environment, whose size (number of states) can be controlled by adjusting the grid dimensions. The environment is intended to model the process of navigating a frozen lake, while avoiding falling into holes with the objective of reaching a goal location. \n\nThe environment is defined as follows:\n\n- The environment is a rectangular grid of states/cells. There are four different types of cells as indicated by the following cell labels: \n\n    - S labels the starting/initial cell, always in the top left corner\n    \n    - F labels frozen cells that are safe to step on\n\n    - H labels holes and if the agent enters a hole cell there is a pentalty of -1000 and the episode ends\n\n    - G labels the goal cell and when reached gives a reward of 1000 and the episode ends\n\n- There are four possible actions (Left, Right, Down, Up). \n\n- The transition function moves the agent in the expected direction with 0.7 probability, and there is a 0.3 probability of transitioning to one of the other randomly selected directions. \n\n- There is a reward of -1 for each action taken by the agent, which is intended to encourage the agent to reach the goal as fast as possible. \n\n- Episodes end whenever the agent falls in a hole or reaches the goal. An end-of-episode is modeled by transitioning to a zero-reward terminal state (all actions lead to that state). \n   \nBelow is the code for the FrozenLake environment class, which has the following functions that will be used in this assignment: \n\n- FrozenLake.GetSuccesors() : Take a state and an action as input, and return a list of pairs, where each pair $(s\u0027,p)$ is a successor state $s\u0027$ with non-zero probability and $p$ is the probability of transitioning to $p$.  \n\n- FrozenLake.GetTransitionProb() : Take a state, an action, a next state as input, and return the probability of the transition \n\n- FrozenLake.GetReward() : Take a state and an action as input, and return the reward of that.\n\nThe version we are using for the assignment 2 is a modified version of the environment at the following location.   \n  \nSource: https://github.com/openai/gym/blob/master/gym/envs/toy_text/frozen_lake.py  \n\nExecute the following cell to initialize the MDP environments. (You do not need to change the code in this part.)",
      "metadata": {
        "pycharm": {
          "metadata": false
        }
      }
    },
    {
      "cell_type": "code",
      "execution_count": null,
      "outputs": [],
      "source": "import sys\nfrom contextlib import closing\n\nimport numpy as np\nfrom six import StringIO, b\n\nfrom gym import utils\nfrom gym.envs.toy_text import discrete\n\nLEFT \u003d 0\nDOWN \u003d 1\nRIGHT \u003d 2\nUP \u003d 3\nnp.set_printoptions(threshold\u003dsys.maxsize, linewidth\u003dsys.maxsize, precision \u003d 2)\nTransitionProb \u003d [0.7, 0.1, 0.1, 0.1]\ndef generate_row(length, h_prob):\n    row \u003d np.random.choice(2, length, p\u003d[1.0 - h_prob, h_prob])\n    row \u003d \u0027\u0027.join(list(map(lambda z: \u0027F\u0027 if z \u003d\u003d 0 else \u0027H\u0027, row)))\n    return row\n\n\ndef generate_map(shape):\n    \"\"\"\n\n    :param shape: Width x Height\n    :return: List of text based map\n    \"\"\"\n    h_prob \u003d 0.1\n    grid_map \u003d []\n\n    for h in range(shape[1]):\n\n        if h \u003d\u003d 0:\n            row \u003d \u0027SF\u0027\n            row +\u003d generate_row(shape[0] - 2, h_prob)\n        elif h \u003d\u003d 1:\n            row \u003d \u0027FF\u0027\n            row +\u003d generate_row(shape[0] - 2, h_prob)\n\n        elif h \u003d\u003d shape[1] - 1:\n            row \u003d generate_row(shape[0] - 2, h_prob)\n            row +\u003d \u0027FG\u0027\n        elif h \u003d\u003d shape[1] - 2:\n            row \u003d generate_row(shape[0] - 2, h_prob)\n            row +\u003d \u0027FF\u0027\n        else:\n            row \u003d generate_row(shape[0], h_prob)\n\n        grid_map.append(row)\n        del row\n\n    return grid_map\n\n\n\nMAPS \u003d {\n    \n    \"4x4\": [\n        \"SFFF\",\n        \"FHFH\",\n        \"FFFH\",\n        \"HFFG\"\n    ],\n    \"8x8\": [\n        \"SFFFFFFF\",\n        \"FFFFFFFF\",\n        \"FFFHFFFF\",\n        \"FFFFFHFF\",\n        \"FFFHFFFF\",\n        \"FHHFFFHF\",\n        \"FHFFHFHF\",\n        \"FFFHFFFG\"\n    ],\n    \"16x16\": [\n        \"SFFFFFFFFHFFFFHF\",\n        \"FFFFFFFFFFFFFHFF\",\n        \"FFFHFFFFHFFFFFFF\",\n        \"FFFFFFFFHFFFFFFF\",\n        \"FFFFFFFFFFFFFFFF\",\n        \"FFHHFFFFFFFHFFFH\",\n        \"FFFFFFFFFFFFFFFF\",\n        \"FFFFFHFFFFFFHFFF\",\n        \"FFFFFHFFFFFFFFFH\",\n        \"FFFFFFFHFFFFFFFF\",\n        \"FFFFFFFFFFFFHFFF\",\n        \"FFFFFFHFFFFFFFFF\",\n        \"FFFFFFFFHFFFFFFF\",\n        \"FFFFFFFFFHFFFFHF\",\n        \"FFFFFFFFFFHFFFFF\",\n        \"FFFHFFFFFFFFFFFG\",\n    ],\n    \n    \"32x32\": [\n        \u0027SFFHFFFFFFFFFFFFFFFFFFFFFFHFFFFF\u0027,\n        \u0027FFHFHHFFHFFFFFFFFFFFFFFFFFHFFFFF\u0027,\n        \u0027FFFHFFFFFFFFHFFHFFFFFFFFFFFFFFFF\u0027,\n        \u0027FFFFFFFFFFFFFFHFHHFHFHFFFFFHFFFH\u0027,\n        \u0027FFFFHFFFFFFFFFFFFFFFHFHFFFFFFFHF\u0027,\n        \u0027FFFFFHFFFFFFFFFFHFFFFFFFFFFHFFFF\u0027,\n        \u0027FFHHFFFFHFFFFFFFFFFFFFFFFFFFFFFF\u0027,\n        \u0027FFFHFFFFFFFFFFHFFFHFHFFFFFFFFHFF\u0027,\n        \u0027FFFFHFFFFFFHFFFFHFHFFFFFFFFFFFFH\u0027,\n        \u0027FFFFHHFHFFFFHFFFFFFFFFFFFFFFFFFF\u0027,\n        \u0027FHFFFFFFFFFFHFFFFFFFFFFFHHFFFHFH\u0027,\n        \u0027FFFHFFFHFFFFFFFFFFFFFFFFFFFFHFFF\u0027,\n        \u0027FFFHFHFFFFFFFFHFFFFFFFFFFFFHFFHF\u0027,\n        \u0027FFFFFFFFFFFFFFFFHFFFFFFFHFFFFFFF\u0027,\n        \u0027FFFFFFHFFFFFFFFHHFFFFFFFHFFFFFFF\u0027,\n        \u0027FFHFFFFFFFFFHFFFFFFFFFFHFFFFFFFF\u0027,\n        \u0027FFFHFFFFFFFFFHFFFFHFFFFFFHFFFFFF\u0027,\n        \u0027FFFFFFFFFFFFFFFFFFFFFFFFFFHFFFFF\u0027,\n        \u0027FFFFFFFFHFFFFFFFHFFFFFFFFFFFFFFH\u0027,\n        \u0027FFHFFFFFFFFFFFFFFFHFFFFFFFFFFFFF\u0027,\n        \u0027FFFFFFFHFFFFFFFFFFFFFFFFFFFFFFFF\u0027,\n        \u0027FFFFFFFFFFFFFFFHFFFFHFFFFFFFHFFF\u0027,\n        \u0027FFHFFFFHFFFFFFFFFHFFFFFFFFFFFHFH\u0027,\n        \u0027FFFFFFFFFFHFFFFHFFFFFFFFFFFFFFFF\u0027,\n        \u0027FFFFFFFFFFFFFFFFFHHFFHHHFFFHFFFF\u0027,\n        \u0027FFFFFFFFFFFFFFHFFFFHFFFFFFFHFFFF\u0027,\n        \u0027FFFFFFFHFFFFFFFFFFFFFFFFFFFFFFFF\u0027,\n        \u0027FFFFFHFFFFFFFFFFFFFFFFHFFHFFFFFF\u0027,\n        \u0027FFFFFFFHFFFFFFFFFHFFFFFFFFFFFFFF\u0027,\n        \u0027FFFFFFFFFFFFFFFFFFFFFFFFHFFFFFFF\u0027,\n        \u0027FFFFFFFFFFFFFFFFFFFFFFFFHFFFFFFF\u0027,\n        \u0027FFFFFFFFFFFFFFFHFFFFFFFFHFFFFFFG\u0027,\n    ]\n}\n\n\ndef generate_random_map(size\u003d8, p\u003d0.8):\n    \"\"\"Generates a random valid map (one that has a path from start to goal)\n    :param size: size of each side of the grid\n    :param p: probability that a tile is frozen\n    \"\"\"\n    valid \u003d False\n\n    # BFS to check that it\u0027s a valid path.\n    def is_valid(arr, r\u003d0, c\u003d0):\n        if arr[r][c] \u003d\u003d \u0027G\u0027:\n            return True\n\n        tmp \u003d arr[r][c]\n        arr[r][c] \u003d \"#\"\n\n        # Recursively check in all four directions.\n        directions \u003d [(1, 0), (0, 1), (-1, 0), (0, -1)]\n        for x, y in directions:\n            r_new \u003d r + x\n            c_new \u003d c + y\n            if r_new \u003c 0 or r_new \u003e\u003d size or c_new \u003c 0 or c_new \u003e\u003d size:\n                continue\n\n            if arr[r_new][c_new] not in \u0027#H\u0027:\n                if is_valid(arr, r_new, c_new):\n                    arr[r][c] \u003d tmp\n                    return True\n\n        arr[r][c] \u003d tmp\n        return False\n\n    while not valid:\n        p \u003d min(1, p)\n        res \u003d np.random.choice([\u0027F\u0027, \u0027H\u0027], (size, size), p\u003d[p, 1-p])\n        res[0][0] \u003d \u0027S\u0027\n        res[-1][-1] \u003d \u0027G\u0027\n        valid \u003d is_valid(res)\n    return [\"\".join(x) for x in res]\n\n\nclass FrozenLakeEnv(discrete.DiscreteEnv):\n    \"\"\"\n    Winter is here. You and your friends were tossing around a frisbee at the park\n    when you made a wild throw that left the frisbee out in the middle of the lake.\n    The water is mostly frozen, but there are a few holes where the ice has melted.\n    If you step into one of those holes, you\u0027ll fall into the freezing water.\n    At this time, there\u0027s an international frisbee shortage, so it\u0027s absolutely imperative that\n    you navigate across the lake and retrieve the disc.\n    However, the ice is slippery, so you won\u0027t always move in the direction you intend.\n    The surface is described using a grid like the following\n\n        SFFF\n        FHFH\n        FFFH\n        HFFG\n\n    S : starting point, safe\n    F : frozen surface, safe\n    H : hole, fall to your doom\n    G : goal, where the frisbee is located\n\n    The episode ends when you reach the goal or fall in a hole.\n    You receive a reward of 1 if you reach the goal, and zero otherwise.\n\n    \"\"\"\n\n    metadata \u003d {\u0027render.modes\u0027: [\u0027human\u0027, \u0027ansi\u0027]}\n\n    def __init__(self, desc\u003dNone, map_name\u003d\"4x4\",is_slippery\u003dTrue):\n        if desc is None and map_name is None:\n            desc \u003d generate_random_map()\n        elif desc is None:\n            desc \u003d MAPS[map_name]\n        self.desc \u003d desc \u003d np.asarray(desc,dtype\u003d\u0027c\u0027)\n        self.nrow, self.ncol \u003d nrow, ncol \u003d desc.shape\n        self.reward_range \u003d (0, 1)\n\n        nA \u003d 4\n        nS \u003d nrow * ncol\n\n        isd \u003d np.array(desc \u003d\u003d b\u0027S\u0027).astype(\u0027float64\u0027).ravel()\n        isd /\u003d isd.sum()\n\n        rew_hole \u003d -1000\n        rew_goal \u003d 1000\n        rew_step \u003d -1\n        \n        P \u003d {s : {a : [] for a in range(nA)} for s in range(nS)}\n        self.TransitProb \u003d np.zeros((nA, nS + 1, nS + 1))\n        self.TransitReward \u003d np.zeros((nS + 1, nA))\n        \n        def to_s(row, col):\n            return row*ncol + col\n        \n        def inc(row, col, a):\n            if a \u003d\u003d LEFT:\n                col \u003d max(col-1,0)\n            elif a \u003d\u003d DOWN:\n                row \u003d min(row+1,nrow-1)\n            elif a \u003d\u003d RIGHT:\n                col \u003d min(col+1,ncol-1)\n            elif a \u003d\u003d UP:\n                row \u003d max(row-1,0)\n            return (row, col)\n\n        for row in range(nrow):\n            for col in range(ncol):\n                s \u003d to_s(row, col)\n                for a in range(4):\n                    li \u003d P[s][a]\n                    letter \u003d desc[row, col]\n                    if letter in b\u0027H\u0027:\n                        li.append((1.0, s, 0, True))\n                        self.TransitProb[a, s, nS] \u003d 1.0\n                        self.TransitReward[s, a] \u003d rew_hole\n                    elif letter in b\u0027G\u0027:\n                        li.append((1.0, s, 0, True))\n                        self.TransitProb[a, s, nS] \u003d 1.0\n                        self.TransitReward[s, a] \u003d rew_goal\n                    else:\n                        if is_slippery:\n                            #for b in [(a-1)%4, a, (a+1)%4]:\n                            for b, p in zip([a, (a+1)%4, (a+2)%4, (a+3)%4], TransitionProb):\n                                newrow, newcol \u003d inc(row, col, b)\n                                newstate \u003d to_s(newrow, newcol)\n                                newletter \u003d desc[newrow, newcol]\n                                done \u003d bytes(newletter) in b\u0027GH\u0027\n                                #rew \u003d float(newletter \u003d\u003d b\u0027G\u0027)\n                                #li.append((1.0/10.0, newstate, rew, done))\n                                if newletter \u003d\u003d b\u0027G\u0027:\n                                    rew \u003d rew_goal\n                                elif newletter \u003d\u003d b\u0027H\u0027:\n                                    rew \u003d rew_hole\n                                else:\n                                    rew \u003d rew_step\n                                li.append((p, newstate, rew, done))\n                                self.TransitProb[a, s, newstate] +\u003d p\n                                self.TransitReward[s, a] \u003d rew_step\n                        else:\n                            newrow, newcol \u003d inc(row, col, a)\n                            newstate \u003d to_s(newrow, newcol)\n                            newletter \u003d desc[newrow, newcol]\n                            done \u003d bytes(newletter) in b\u0027GH\u0027\n                            rew \u003d float(newletter \u003d\u003d b\u0027G\u0027)\n                            li.append((1.0, newstate, rew, done))\n\n        super(FrozenLakeEnv, self).__init__(nS, nA, P, isd)\n\n    def render(self, mode\u003d\u0027human\u0027):\n        outfile \u003d StringIO() if mode \u003d\u003d \u0027ansi\u0027 else sys.stdout\n\n        row, col \u003d self.s // self.ncol, self.s % self.ncol\n        desc \u003d self.desc.tolist()\n        desc \u003d [[c.decode(\u0027utf-8\u0027) for c in line] for line in desc]\n        desc[row][col] \u003d utils.colorize(desc[row][col], \"red\", highlight\u003dTrue)\n        if self.lastaction is not None:\n            outfile.write(\"  ({})\\n\".format([\"Left\",\"Down\",\"Right\",\"Up\"][self.lastaction]))\n        else:\n            outfile.write(\"\\n\")\n        outfile.write(\"\\n\".join(\u0027\u0027.join(line) for line in desc)+\"\\n\")\n\n        if mode !\u003d \u0027human\u0027:\n            with closing(outfile):\n                return outfile.getvalue()\n    \n    def GetSuccessors(self, s, a):\n        next_states \u003d np.nonzero(self.TransitProb[a, s, :])\n        probs \u003d self.TransitProb[a, s, next_states]\n        return [(s,p) for s,p in zip(next_states[0], probs[0])]\n    \n    def GetTransitionProb(self, s, a, ns):\n        return self.TransitProb[a, s, ns]\n    \n    def GetReward(self, s, a):\n        return self.TransitReward[s, a]\n    \n    def GetStateSpace(self):\n        return self.TransitProb.shape[1]\n    \n    def GetActionSpace(self):\n        return self.TransitProb.shape[0]",
      "metadata": {
        "pycharm": {
          "metadata": false,
          "name": "#%%\n"
        }
      }
    },
    {
      "cell_type": "markdown",
      "source": "## Play Game\nHave Fun!  \n(You don\u0027t have to do this part, but if you do make sure to use quite using \"q\" so that you can continue.)",
      "metadata": {
        "pycharm": {
          "metadata": false
        }
      }
    },
    {
      "cell_type": "code",
      "execution_count": null,
      "outputs": [],
      "source": "print(\"---------actions--------\")\nprint(\"a: Left\\ns: Down\\nd: Right\\nw: Up\\n(q: quit)\")\nenv \u003d FrozenLakeEnv(map_name\u003d\"16x16\")\nenv.render()\nrew \u003d 0\nfor _ in range(1000):\n    a \u003d input(\"input action: \")\n    if a \u003d\u003d \u0027a\u0027:\n        a \u003d 0\n    elif a \u003d\u003d \u0027s\u0027:\n        a \u003d 1\n    elif a \u003d\u003d \u0027d\u0027:\n        a \u003d 2\n    elif a \u003d\u003d \u0027w\u0027:\n        a \u003d 3\n    elif a \u003d\u003d \u0027q\u0027:\n        break\n    else:\n        print(\u0027illegal input\u0027)\n        continue\n    observation, reward, done, info \u003d env.step(a)\n    rew +\u003d reward\n    print(chr(27) + \"[2J\")\n    print(\"---------actions--------\")\n    print(\"a: Left\\ns: Down\\nd: Right\\nw: Up\\n(q: quit)\")\n    print()\n    print(\"current state:\" + str(observation))\n    if info[\u0027prob\u0027] \u003d\u003d TransitionProb[0] or info[\u0027prob\u0027] \u003d\u003d 1:\n        print(\u0027move to expected direstion\u0027)\n    else:\n        print(\u0027move to unexpected direstion\u0027)\n    print(\"probabilty: \" + str(info[\u0027prob\u0027]))\n    print(\"current reward:\" + str(rew))\n    print()\n    env.render()\n    print()\n    if done:\n        print(\u0027end\u0027)\n        break\n   ",
      "metadata": {
        "pycharm": {
          "metadata": false,
          "name": "#%%\n"
        }
      }
    },
    {
      "cell_type": "markdown",
      "source": "***\n***\n## Initializations\n\nRun the following cell to initilize maps of different sizes.",
      "metadata": {
        "pycharm": {
          "metadata": false
        }
      }
    },
    {
      "cell_type": "code",
      "execution_count": null,
      "outputs": [],
      "source": "map_8 \u003d (MAPS[\"8x8\"], 8)\nmap_16 \u003d (MAPS[\"16x16\"], 16)\nmap_32 \u003d (MAPS[\"32x32\"], 32)\n#map_50 \u003d (generate_map((50,50)), 50)\n#map_110 \u003d (generate_map((110,110)), 110)\n\nMAP \u003d map_8\nmap_size \u003d MAP[1]\nrun_time \u003d {}",
      "metadata": {
        "pycharm": {
          "metadata": false,
          "name": "#%%\n"
        }
      }
    },
    {
      "cell_type": "markdown",
      "source": "## Empirical Policy Evaluation \n\nAs a warm up we are going to get experience running a policy in an MDP to empirically evalute the performance of the policy. \n\nRun the following cell to define the policy evaluation function, which allows us to run a specified policy in a specified environment for a specified number of trials. The function assumes that the trials will terminate for any policy, which is indicated by the \"done\" variable returned by the environment. This version of the function measures performance by total cummulative reward. Since the environment is stochastic each trial may return a different total reward. This function returns the average cummulative reward across the trials. \n",
      "metadata": {
        "pycharm": {
          "metadata": false
        }
      }
    },
    {
      "cell_type": "code",
      "execution_count": null,
      "outputs": [],
      "source": "def evaluate_policy(env, policy, trials \u003d 1000):\n    total_reward \u003d 0\n    for _ in range(trials):\n        env.reset()\n        done \u003d False\n        observation, reward, done, info \u003d env.step(policy[0])\n        total_reward +\u003d reward\n        while not done:\n            observation, reward, done, info \u003d env.step(policy[observation])\n            total_reward +\u003d reward\n    return total_reward / trials",
      "metadata": {
        "pycharm": {
          "metadata": false,
          "name": "#%%\n"
        }
      }
    },
    {
      "cell_type": "markdown",
      "source": "## Discounted Policy Evaluation \nCreate a modified version of the above evaluation function that measure the discounted total reward rather than just the total reward as above. The discount factor is specified via a parameter to the function. Specifically, if a trial results in a sequence of rewards: $r_0, r_1, r_2, r_3$ the discounted total reward would be $r_0 + \\beta r_1 + \\beta^2 r_2 + \\beta^3 r_3$, where $\\beta$ is the discount factor.  \n",
      "metadata": {
        "pycharm": {
          "metadata": false
        }
      }
    },
    {
      "cell_type": "code",
      "execution_count": null,
      "outputs": [],
      "source": "def evaluate_policy_discounted(env, policy, discount_factor, trials \u003d 1000):\n    total_reward \u003d 0\n    #INSERT YOUR CODE HERE\n    k \u003d 0\n    for trial in range(trials):\n        env.reset()\n        done \u003d False\n        observation, reward, done, info \u003d env.step(policy[0])\n        total_reward +\u003d reward\n        k +\u003d 1\n        while not done:\n            observation, reward, done, info \u003d env.step(policy[observation]) \n            total_reward +\u003d total_reward * discount_factor ** k\n    return total_reward / trials",
      "metadata": {
        "pycharm": {
          "metadata": false,
          "name": "#%%\n"
        }
      }
    },
    {
      "cell_type": "markdown",
      "source": "## Helper Function\nExecute the following cell to define the print function. This function shows the policy and state values and saves them to disk. We will use this later in the assignment.",
      "metadata": {
        "pycharm": {
          "metadata": false
        }
      }
    },
    {
      "cell_type": "code",
      "execution_count": null,
      "outputs": [],
      "source": "def print_results(v, pi, map_size, env, beta, name):\n    v_np, pi_np  \u003d np.array(v), np.array(pi)\n    print(\"\\nState Value:\\n\")\n    print(np.array(v_np[:-1]).reshape((map_size,map_size)))\n    print(\"\\nPolicy:\\n\")\n    print(np.array(pi_np[:-1]).reshape((map_size,map_size)))\n    print(\"\\nAverage reward: {}\\n\".format(evaluate_policy(env, pi)))\n    print(\"Avereage discounted reward: {}\\n\".format(evaluate_policy_discounted(env, pi, discount_factor \u003d beta)))\n    print(\"State Value image view:\\n\")\n    plt.imshow(np.array(v_np[:-1]).reshape((map_size,map_size)))\n    \n    pickle.dump(v, open(name + \"_\" + str(map_size) + \"_v.pkl\", \"wb\"))\n    pickle.dump(pi, open(name + \"_\" + str(map_size) + \"_pi.pkl\", \"wb\"))",
      "metadata": {
        "pycharm": {
          "metadata": false,
          "name": "#%%\n"
        }
      }
    },
    {
      "cell_type": "markdown",
      "source": "## Random policy  \nTo provide a reference point for policy performance the following cell defines a random policy (selects actions uniformly at random) and evaluates it. Execute the cell and observe the results. ",
      "metadata": {
        "pycharm": {
          "metadata": false
        }
      }
    },
    {
      "cell_type": "code",
      "execution_count": null,
      "outputs": [],
      "source": "env \u003d FrozenLakeEnv(desc \u003d MAP[0], is_slippery \u003d True)\nenv.render()\npi \u003d [0] * map_size * map_size\nfor i in range(map_size * map_size):\n    pi[i] \u003d randint(0, 3)\nprint(\"Average reward:\", evaluate_policy(env, pi))\nprint(\"Average discounted reward:\", \n      evaluate_policy_discounted(env, pi, discount_factor \u003d 0.999))",
      "metadata": {
        "pycharm": {
          "metadata": false,
          "name": "#%%\n"
        }
      }
    },
    {
      "cell_type": "markdown",
      "source": "***\n## Synchronous Value Iteration with full transition function\n\nIn this section, you should implement the synchronous value iteration algorithm. A code skeleton is provided below. Complete the given code by implementing the Bellman backup operator. Recall that the Bellman backup for a state assuming the current value function is $V$ is given by:\n\\begin{equation}\nV_{new}(s) \u003d \\max_{a\\in A} R(s,a) + \\beta \\sum_{s\u0027\\in S} T(s,a,s\u0027) V(s\u0027)\n\\end{equation}\n\nFor this part of the assignment you should implement this Bellman backup operator in a way that performs the sum over all possible next states $s\u0027 \\in S$. You will want to use the functions env.GetTransitionProb() to get the transition probabilities and env.GetReward() to get the rewards. In each iteration you need to do the following:\n\n1. Apply the Bellman backup to all state. \n2. Compute and update the Bellman error (see first part of document).\n3. Update the value and policy accordingly.",
      "metadata": {
        "pycharm": {
          "metadata": false
        }
      }
    },
    {
      "cell_type": "code",
      "execution_count": null,
      "outputs": [],
      "source": "",
      "metadata": {
        "pycharm": {
          "metadata": false,
          "name": "#%%\n"
        }
      }
    },
    {
      "cell_type": "code",
      "execution_count": null,
      "outputs": [],
      "source": "def sync_value_iteration_v1(env, beta \u003d 0.999, epsilon \u003d 0.0001):\n    \n    A \u003d env.GetActionSpace()\n    S \u003d env.GetStateSpace()\n    \n    pi \u003d [0] * S\n    v \u003d [0] * S\n    \n    pi_new \u003d [0] * S\n    v_new \u003d [0] * S\n    \n    bellman_error \u003d float(\u0027inf\u0027)\n    while(bellman_error \u003e epsilon):\n        bellman_error \u003d 0\n        for state in range(S):\n            max_v \u003d float(\u0027-inf\u0027)\n            max_a \u003d 0\n            for action in range(A):\n                #INSERT YOUR CODE HERE\n                \n                \n        v \u003d deepcopy(v_new)\n        pi \u003d deepcopy(pi_new)\n        \n    return v, pi",
      "metadata": {
        "pycharm": {
          "metadata": false,
          "name": "#%%\n"
        }
      }
    },
    {
      "cell_type": "markdown",
      "source": "Run the following cell to see the output of your function and store the value and policy matrices to file.",
      "metadata": {
        "pycharm": {
          "metadata": false
        }
      }
    },
    {
      "cell_type": "code",
      "execution_count": null,
      "outputs": [],
      "source": "beta \u003d 0.999\nenv \u003d FrozenLakeEnv(desc \u003d MAP[0], is_slippery \u003d True)\nprint(\"Game Map:\")\nenv.render()\n\nstart_time \u003d time.time()\nv, pi \u003d sync_value_iteration_v1(env, beta \u003d beta)\nv_np, pi_np  \u003d np.array(v), np.array(pi)\nend_time \u003d time.time()\nrun_time[\u0027Sync Value Iteration v1\u0027] \u003d end_time - start_time\nprint(\"time:\", run_time[\u0027Sync Value Iteration v1\u0027])\n\nprint_results(v, pi, map_size, env, beta, \u0027sync_vi\u0027)",
      "metadata": {
        "pycharm": {
          "metadata": false,
          "name": "#%%\n"
        }
      }
    },
    {
      "cell_type": "markdown",
      "source": "## Synchronous Value Iteration Using GetSuccessors()\nThe above version of value iteration can be very innefficient when the number of states is large because it iterates over all next states. In practice, it is usually the case that for any state $s$ and action $a$ most states have zero probability of being successors. We can exploit that fact to make value iteration more efficient. \n\nThe goal of this part is to use GetSuccessors() function to decrease the running time. This function takes a state and an action as input and returns the possible next states (with non-zero transition probability) and their transition probabilities. this allows us to ignore all states with zero transition probability. Implement value iteration in the following cell following the previous implmentation. But, here, use the env.GetSuccessors() function ot limit the Bellman backup to only consider non-zero probability states in the summation over next states. Using this function you will not need the GetTransitionProb function.\n",
      "metadata": {
        "pycharm": {
          "metadata": false
        }
      }
    },
    {
      "cell_type": "code",
      "execution_count": null,
      "outputs": [],
      "source": "def sync_value_iteration_v2(env, beta \u003d 0.999, epsilon \u003d 0.0001):\n    \n    A \u003d env.GetActionSpace()\n    S \u003d env.GetStateSpace()\n    \n    pi \u003d [0] * S\n    v \u003d [0] * S\n    \n    pi_new \u003d [0] * S\n    v_new \u003d [0] * S\n    \n    error \u003d float(\u0027inf\u0027)\n    \n    #INSERT YOUR CODE HERE\n        \n    return v, pi",
      "metadata": {
        "pycharm": {
          "metadata": false,
          "name": "#%%\n"
        }
      }
    },
    {
      "cell_type": "markdown",
      "source": "Run the following cell to see the output of your function and store the value and policy matrices to file. Note the time taken for this version versus the previous version of value iteration. The computation time should be significantly smaller for this later version that uses GetSuccessors. Because of this time savings, for the remainder of this assignment you should implement Bellman backups using GetSuccessors. ",
      "metadata": {
        "pycharm": {
          "metadata": false
        }
      }
    },
    {
      "cell_type": "code",
      "execution_count": null,
      "outputs": [],
      "source": "beta \u003d 0.999\nenv \u003d FrozenLakeEnv(desc \u003d MAP[0], is_slippery \u003d True)\nprint(\"Game Map:\")\nenv.render()\n\nstart_time \u003d time.time()\nv, pi \u003d sync_value_iteration_v2(env, beta \u003d beta)\nv_np, pi_np  \u003d np.array(v), np.array(pi)\nend_time \u003d time.time()\nrun_time[\u0027Sync Value Iteration v2\u0027] \u003d end_time - start_time\nprint(\"time:\", run_time[\u0027Sync Value Iteration v2\u0027])\n\nprint_results(v, pi, map_size, env, beta, \u0027sync_vi_gs\u0027)",
      "metadata": {
        "pycharm": {
          "metadata": false,
          "name": "#%%\n"
        }
      }
    },
    {
      "cell_type": "markdown",
      "source": "***\n## Initialize Ray\n\nNow we are going to use Ray to develop distributed versions of the above value iteration algorithm. The first step of course is to initialize Ray.",
      "metadata": {
        "pycharm": {
          "metadata": false
        }
      }
    },
    {
      "cell_type": "code",
      "execution_count": null,
      "outputs": [],
      "source": "ray.shutdown()\nray.init(include_webui\u003dFalse, ignore_reinit_error\u003dTrue, redis_max_memory\u003d500000000, object_store_memory\u003d5000000000)",
      "metadata": {
        "pycharm": {
          "metadata": false,
          "name": "#%%\n"
        }
      }
    },
    {
      "cell_type": "markdown",
      "source": "## Distributed Synchronous Value Iteration -- Version 1\nA simple way to distribute Value Iteration would be to implement each iteration by having a each state updated by a distinct worker. That is each state is updated by creating a work to do the Bellman backup for that state and then recording the result. In order to avoid creating an enormous number of workers, the first implementation will only allow a specified number of workers to be active at any time. After each iteration, the main process checks the Bellman error and if it is less than the specified epsilon it terminates. The following diagram demonstrates the architecture of such a system.\n\n\n```python\n\n\"\"\"\n\n                                +---------------+\n                                |               |\n                                | Main Process  |------------------------------------\n                                |               |                                   |\n                                |               |                                   |\n                                +---------------+                                   |\n                                        |                                           |\n                                        |                                           |\n                                        |                                           |\n                                        |                                           |\n                                        |                                           |\n     +---Re-init Worker-----+-------------------+-----Re-init Worker---+          Check\n     |                      |                   |                      |        Coverage\n+-----------+         +-----------+       +-----------+         +-----------+  Iteratively\n|           |         |           |       |           |         |           |       |\n|  Worker   |         |  Worker   |       |  Worker   |         |  Worker   |       |\n|  (env)    |         |  (env)    |       |  (env)    |         |  (env)    |       |        \n|           |         |           |       |           |         |           |       |\n+-----------+         +-----------+       +-----------+         +-----------+       |\n      ^                     ^                   ^                     ^             |\n      |                     |                   |                     |             |\n      +------ One-Value ----+---------+---------+----- One-Value -----+             |\n                                      |                                             |\n                                      |                                             |\n                              +----------------+                                    |             \n                              |                |                                    |                   \n                              |  Value Server  |-------------------------------------                        \n                              |                |                  \n                              +----------------+\n\n\"\"\"\n\n```\n\nA key part of this implementation is the Value Server, which is a Ray actor that workers interface with to update the value function at each iteration. In order to avoid \n\nYou need to complete the following code by adding the Bellman backup operator to it. Once you implemented the function, run the following cell to test it and to store the value and policy matrices to file. Note that this implementation should replicate the results of the non-distributed version of synchronous value iteration. \n\nImportantly you should see that this version is significantly slower than the above non-distributed version. Think about why this might be the case. ",
      "metadata": {
        "pycharm": {
          "metadata": false
        }
      }
    },
    {
      "cell_type": "code",
      "execution_count": null,
      "outputs": [],
      "source": "@ray.remote\nclass VI_server_v1(object):\n    def __init__(self,size):\n        self.v_current \u003d [0] * size\n        self.pi \u003d [0] * size\n        self.v_new \u003d [0] * size\n        \n    def get_value_and_policy(self):\n        return self.v_current, self.pi\n    \n    def update(self, update_index, update_v, update_pi):\n        self.v_new[update_index] \u003d update_v\n        self.pi[update_index] \u003d update_pi\n    \n    def get_error_and_update(self):\n        max_error \u003d 0\n        for i in range(len(self.v_current)):\n            error \u003d abs(self.v_new[i] - self.v_current[i])\n            if error \u003e max_error:\n                max_error \u003d error\n            self.v_current[i] \u003d self.v_new[i]\n            \n        return max_error\n    \n@ray.remote\ndef VI_worker_v1(VI_server, data, worker_id, update_state):\n        env, workers_num, beta, epsilon \u003d data\n        A \u003d env.GetActionSpace()\n        S \u003d env.GetStateSpace()\n            \n        # get shared variable      \n        V, _ \u003d ray.get(VI_server.get_value_and_policy.remote())\n        \n        # bellman backup\n        \n        #INSERT YOUR CODE HERE\n        \n        VI_server.update.remote(update_state, max_v, max_a)\n        \n        # return ith worker\n        return worker_id\n                    \ndef sync_value_iteration_distributed_v1(env, beta \u003d 0.999, epsilon \u003d 0.01, workers_num \u003d 4, stop_steps \u003d 2000):\n    S \u003d env.GetStateSpace()\n    VI_server \u003d VI_server_v1.remote(S)\n    workers_list \u003d []\n    data_id \u003d ray.put((env, workers_num, beta, epsilon))\n    \n    start \u003d 0\n    # start the all worker, store their id in a list\n    for i in range(workers_num):\n        w_id \u003d VI_worker_v1.remote(VI_server, data_id, i, start)\n        workers_list.append(w_id)\n        start +\u003d 1\n    \n    error \u003d float(\u0027inf\u0027)\n    while error \u003e epsilon:\n        for update_state in range(start, S):\n            # Wait for one worker finishing, get its reuslt, and delete it from list\n            finished_worker_id \u003d ray.wait(workers_list, num_returns \u003d 1, timeout \u003d None)[0][0]\n            finish_worker \u003d ray.get(finished_worker_id)\n            workers_list.remove(finished_worker_id)\n\n            # start a new worker, and add it to the list\n            w_id \u003d VI_worker_v1.remote(VI_server, data_id, finish_worker, update_state)\n            workers_list.append(w_id)\n        start \u003d 0\n        error \u003d ray.get(VI_server.get_error_and_update.remote())\n\n    v, pi \u003d ray.get(VI_server.get_value_and_policy.remote())\n    return v, pi",
      "metadata": {
        "pycharm": {
          "metadata": false,
          "name": "#%%\n"
        }
      }
    },
    {
      "cell_type": "code",
      "execution_count": null,
      "outputs": [],
      "source": "beta \u003d 0.999\nenv \u003d FrozenLakeEnv(desc \u003d MAP[0], is_slippery \u003d True)\nprint(\"Game Map:\")\nenv.render()\n\nstart_time \u003d time.time()\nv, pi \u003d sync_value_iteration_distributed_v1(env, beta \u003d beta, workers_num \u003d 4)\nv_np, pi_np  \u003d np.array(v), np.array(pi)\nend_time \u003d time.time()\nrun_time[\u0027Sync distributed v1\u0027] \u003d end_time - start_time\nprint(\"time:\", run_time[\u0027Sync distributed v1\u0027])\n\nprint_results(v, pi, map_size, env, beta, \u0027dist_vi_v1\u0027)",
      "metadata": {
        "pycharm": {
          "metadata": false,
          "name": "#%%\n"
        }
      }
    },
    {
      "cell_type": "markdown",
      "source": "## Distributed Synchronous Value Iteration -- Version 2\n\nOne way to improve the above approach is to create a limited number of workers and have each worker perform backups on a batch of states. Effectively, this approach partitions the state space and uses a worker to handle each state subset of the partition. The following diagram demonstrates the architecture of such a system.\n\n\n```python\n\n\"\"\"\n\n                                +---------------+\n                                |               |\n                                | Main Process  |------------------------------------\n                                |               |                                   |\n                                |               |                                   |\n                                +---------------+                                   |\n                                        |                                           |\n                                        |                                           |\n                                        |                                           |\n                                        |                                           |\n                                        |                                           |\n     +---Re-init Worker-----+-------------------+-----Re-init Worker---+          Check\n     |                      |                   |                      |        Coverage\n+-----------+         +-----------+       +-----------+         +-----------+  Iteratively\n|           |         |           |       |           |         |           |       |\n|  Worker   |         |  Worker   |       |  Worker   |         |  Worker   |       |\n|  (env)    |         |  (env)    |       |  (env)    |         |  (env)    |       |        \n|           |         |           |       |           |         |           |       |\n+-----------+         +-----------+       +-----------+         +-----------+       |\n      ^                     ^                   ^                     ^             |\n      |                     |                   |                     |             |\n      +---- Batch-Value ----+---------+---------+---- Batch-Value ----+             |\n                                      |                                             |\n                                      |                                             |\n                              +----------------+                                    |             \n                              |                |                                    |                   \n                              |  Value Server  |-------------------------------------                        \n                              |                |                  \n                              +----------------+\n\n\"\"\"\n\n```\nIn this section, you should implement the idea described above.\n- Partition the states into batches. The number of batches should be equal to the number of the workers.\n- Create workers to handle each batch and run them\n- Terminate the workers once the error is less than the given epsilon\n\nAgain, this implementation should exactly emulate the result of each iteration of non-distributed value iteration. ",
      "metadata": {
        "pycharm": {
          "metadata": false
        }
      }
    },
    {
      "cell_type": "code",
      "execution_count": null,
      "outputs": [],
      "source": "@ray.remote\nclass VI_server_v2(object):\n    #INSERT YOUR CODE HERE\n    \n@ray.remote\ndef VI_worker_v2(VI_server, data, start_state, end_state):\n        env, workers_num, beta, epsilon \u003d data\n        A \u003d env.GetActionSpace()\n        S \u003d env.GetStateSpace()\n        \n        #INSERT YOUR CODE HERE\n                    \ndef sync_value_iteration_distributed_v2(env, beta \u003d 0.999, epsilon \u003d 0.01, workers_num \u003d 4, stop_steps \u003d 2000):\n    S \u003d env.GetStateSpace()\n    VI_server \u003d VI_server_v2.remote(S)\n    workers_list \u003d []\n    data_id \u003d ray.put((env, workers_num, beta, epsilon))\n    #INSERT YOUR CODE HERE\n\n    error \u003d float(\u0027inf\u0027)\n    while error \u003e epsilon:\n        #INSERT YOUR CODE HERE\n        \n    return v, pi",
      "metadata": {
        "pycharm": {
          "metadata": false,
          "name": "#%%\n"
        }
      }
    },
    {
      "cell_type": "markdown",
      "source": "Run the following code to see the running time of your code. This code stores the policy and state values to disk.",
      "metadata": {
        "pycharm": {
          "metadata": false
        }
      }
    },
    {
      "cell_type": "code",
      "execution_count": null,
      "outputs": [],
      "source": "beta \u003d 0.999\nenv \u003d FrozenLakeEnv(desc \u003d MAP[0], is_slippery \u003d True)\nprint(\"Game Map:\")\nenv.render()\n\nstart_time \u003d time.time()\nv, pi \u003d sync_value_iteration_distributed_v2(env, beta \u003d beta, workers_num \u003d 4)\nv_np, pi_np  \u003d np.array(v), np.array(pi)\nend_time \u003d time.time()\nrun_time[\u0027Sync distributed v2\u0027] \u003d end_time - start_time\nprint(\"time:\", run_time[\u0027Sync distributed v2\u0027])\nprint_results(v, pi, map_size, env, beta, \u0027dist_vi_v2\u0027)",
      "metadata": {
        "pycharm": {
          "metadata": false,
          "name": "#%%\n"
        }
      }
    },
    {
      "cell_type": "markdown",
      "source": "## Comparison of different approachs\n\nRun the following cell to compare the running time of different approaches. ",
      "metadata": {
        "pycharm": {
          "metadata": false
        }
      }
    },
    {
      "cell_type": "code",
      "execution_count": null,
      "outputs": [],
      "source": "from copy import deepcopy\ntemp_dict \u003d deepcopy(run_time)\nprint(\"All:\")\nfor _ in range(len(temp_dict)):\n    min_v \u003d float(\u0027inf\u0027)\n    for k, v in temp_dict.items():\n        if v is None:\n            continue\n        if v \u003c min_v:\n            min_v \u003d v\n            name \u003d k\n    temp_dict[name] \u003d float(\u0027inf\u0027)\n    print(name + \": \" + str(min_v))\n    print()",
      "metadata": {
        "pycharm": {
          "metadata": false,
          "name": "#%%\n"
        }
      }
    },
    {
      "cell_type": "markdown",
      "source": "## Report\nWrite a report that includes the following:\n- A plot that shows the running time of the above 4 approaches agianst the map sizes f 8, 16 and 32. \n- A plot that shows the running time of both distributed approaches agianst the number of the workers with 2, 4 and 8 workers.\n- Breifly explain why the second distributed method is faster than the first one?\n- Compere the best distributed method with the best non-distributed appraoch. Which one is better? Briefly explain why.",
      "metadata": {
        "pycharm": {
          "metadata": false
        }
      }
    },
    {
      "cell_type": "markdown",
      "source": "## Distributed Synchronous VI Competition\nIn this part, you should design and implement your own distributed synchronous VI method based on what you have learned in the previous parts. Your implementation has the following constraints:\n- It must terminate and return a value function (and corresponding greedy policy) that satisfies the specified Bellman error threshold\n- It must be iterative in the sense that it produces the same sequence of value functions as non-distributed synchronous value iteration\n\nFor this part, you should create a stand alone python file named `competition.py`. You can copy the needed functions from this notebook to your file. Your code should contain a main function called `fast_value_iteration` with the following exact signiture: \n\n`def fast_value_iteration(env, beta \u003d 0.999, epsilon \u003d 0.01, workers_num \u003d 4)`\n\nHere epsilon is the Bellman error threshold and worker_num is the maximum number of workers. This function should return policy and value vectors that satsify the Bellman error constraint. \n\nTo test your code, you should use an exclusive compution node of DevCloud. You can use the `qsub -I -lselect\u003d1` command to connect to a computation node and run your code on it. We may test your programs on problems as large as 100x100 FrozenLake environments. \n\nSome possible ideas to consider\n\n- How should the number of workers be selected and how should states be partitioned across workers?\n- Are there alternative protocols between the server and workers?\n- Where are the communication bottlenecks in the system and how might they be improved? ",
      "metadata": {
        "pycharm": {
          "metadata": false
        }
      }
    },
    {
      "cell_type": "markdown",
      "source": "## Deliverables\n\nSubmit a zip file to Canvas that contains:\n- completed version of this notebook\n- the .pkl files generated by print_results function for your runs on map of size 8x8\n- a python file for distributed VI competition\n- your PDF report file",
      "metadata": {
        "pycharm": {
          "metadata": false
        }
      }
    },
    {
      "cell_type": "code",
      "execution_count": null,
      "outputs": [],
      "source": "",
      "metadata": {
        "pycharm": {
          "metadata": false,
          "name": "#%%\n"
        }
      }
    }
  ],
  "metadata": {
    "kernelspec": {
      "display_name": "Python 2",
      "language": "python",
      "name": "python2"
    },
    "language_info": {
      "codemirror_mode": {
        "name": "ipython",
        "version": 2
      },
      "file_extension": ".py",
      "mimetype": "text/x-python",
      "name": "python",
      "nbconvert_exporter": "python",
      "pygments_lexer": "ipython2",
      "version": "2.7.13"
    },
    "stem_cell": {
      "cell_type": "raw",
      "source": "",
      "metadata": {
        "pycharm": {
          "metadata": false
        }
      }
    }
  },
  "nbformat": 4,
  "nbformat_minor": 2
}